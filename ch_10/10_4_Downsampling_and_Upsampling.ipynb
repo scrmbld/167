{
    "cells": [
        {
            "cell_type": "markdown",
            "id": "18a6d499",
            "metadata": {},
            "source": "<a href=\"https://colab.research.google.com/github/udlbook/udlbook/blob/main/Notebooks/Chap10/10_4_Downsampling_and_Upsampling.ipynb\" target=\"_parent\"><img src=\"https://colab.research.google.com/assets/colab-badge.svg\" alt=\"Open In Colab\"/></a>"
        },
        {
            "cell_type": "markdown",
            "id": "3e3bb7da",
            "metadata": {},
            "source": "# **Notebook 10.4: Downsampling and Upsampling**\n\nThis notebook investigates the down sampling and downsampling methods discussed in section 10.4 of the book.\n\nWork through the cells below, running each cell in turn. In various places you will see the words \"TO DO\". Follow the instructions at these places and make predictions about what is going to happen or write code to complete the functions.\n\nContact me at udlbookmail@gmail.com if you find any mistakes or have any suggestions."
        },
        {
            "cell_type": "code",
            "execution_count": null,
            "id": "3cc12b19",
            "metadata": {
                "trusted": true
            },
            "outputs": [],
            "source": "import numpy as np\nimport matplotlib.pyplot as plt\nfrom PIL import Image\nfrom numpy import asarray"
        },
        {
            "cell_type": "code",
            "execution_count": null,
            "id": "8be26a01",
            "metadata": {
                "trusted": true
            },
            "outputs": [],
            "source": "# Define 4 by 4 original patch\norig_4_4 = np.array([[1, 3, 5,3 ], [6,2,0,8], [4,6,1,4], [2,8,0,3]])\nprint(orig_4_4)"
        },
        {
            "cell_type": "code",
            "execution_count": null,
            "id": "ca7581bd",
            "metadata": {
                "trusted": true
            },
            "outputs": [],
            "source": "def subsample(x_in):\n  x_out = np.zeros(( int(np.ceil(x_in.shape[0]/2)), int(np.ceil(x_in.shape[1]/2)) ))\n  # TO DO -- write the subsampling routine\n  # Replace this line\n  for i in range(x_out.shape[0]):\n    for j in range(x_out.shape[1]):\n      in_i = i*2; in_j = j*2;\n      x_out[i,j] = x_in[in_i, in_j]\n\n\n  return x_out"
        },
        {
            "cell_type": "code",
            "execution_count": null,
            "id": "4a8649cc",
            "metadata": {
                "trusted": true
            },
            "outputs": [],
            "source": "print(\"Original:\")\nprint(orig_4_4)\nprint(\"Subsampled:\")\nprint(subsample(orig_4_4))"
        },
        {
            "cell_type": "markdown",
            "id": "70960c4c",
            "metadata": {},
            "source": "Let's try that on an image to get a feel for how it works:"
        },
        {
            "cell_type": "code",
            "execution_count": null,
            "id": "841f1da2",
            "metadata": {
                "trusted": true
            },
            "outputs": [],
            "source": "!wget https://raw.githubusercontent.com/udlbook/udlbook/main/Notebooks/Chap10/test_image.png"
        },
        {
            "cell_type": "code",
            "execution_count": null,
            "id": "af434803",
            "metadata": {
                "trusted": true
            },
            "outputs": [],
            "source": "# load the image\nimage = Image.open('test_image.png')\n# convert image to numpy array\ndata = asarray(image)\ndata_subsample = subsample(data);\n\nplt.figure(figsize=(5,5))\nplt.imshow(data, cmap='gray')\nplt.show()\n\nplt.figure(figsize=(5,5))\nplt.imshow(data_subsample, cmap='gray')\nplt.show()\n\ndata_subsample2 = subsample(data_subsample)\nplt.figure(figsize=(5,5))\nplt.imshow(data_subsample2, cmap='gray')\nplt.show()\n\ndata_subsample3 = subsample(data_subsample2)\nplt.figure(figsize=(5,5))\nplt.imshow(data_subsample3, cmap='gray')\nplt.show()"
        },
        {
            "cell_type": "code",
            "execution_count": null,
            "id": "2f6d6e96",
            "metadata": {
                "trusted": true
            },
            "outputs": [],
            "source": "# Now let's try max-pooling\ndef maxpool(x_in):\n  x_out = np.zeros(( int(np.floor(x_in.shape[0]/2)), int(np.floor(x_in.shape[1]/2)) ))\n  # TO DO -- write the maxpool routine\n  # Replace this line\n  for i in range(x_out.shape[0]):\n    for j in range(x_out.shape[1]):\n      in_y = 2*i; in_x  = 2*j;\n      x_out[i,j] = np.max(x_in[in_y:in_y+2, in_x:in_x+2])\n\n  return x_out"
        },
        {
            "cell_type": "code",
            "execution_count": null,
            "id": "d8b1fb53",
            "metadata": {
                "trusted": true
            },
            "outputs": [],
            "source": "print(\"Original:\")\nprint(orig_4_4)\nprint(\"Maxpooled:\")\nprint(maxpool(orig_4_4))"
        },
        {
            "cell_type": "code",
            "execution_count": null,
            "id": "6e1076cb",
            "metadata": {
                "trusted": true
            },
            "outputs": [],
            "source": "# Let's see what Rick looks like:\ndata_maxpool = maxpool(data);\n\nplt.figure(figsize=(5,5))\nplt.imshow(data, cmap='gray')\nplt.show()\n\nplt.figure(figsize=(5,5))\nplt.imshow(data_maxpool, cmap='gray')\nplt.show()\n\ndata_maxpool2 = maxpool(data_maxpool)\nplt.figure(figsize=(5,5))\nplt.imshow(data_maxpool2, cmap='gray')\nplt.show()\n\ndata_maxpool3 = maxpool(data_maxpool2)\nplt.figure(figsize=(5,5))\nplt.imshow(data_maxpool3, cmap='gray')\nplt.show()"
        },
        {
            "cell_type": "markdown",
            "id": "ed4519dc",
            "metadata": {},
            "source": "You can see that the stripes on his shirt gradually turn to white because we keep retaining the brightest local pixels."
        },
        {
            "cell_type": "code",
            "execution_count": null,
            "id": "e84d3226",
            "metadata": {
                "trusted": true
            },
            "outputs": [],
            "source": "# Finally, let's try mean pooling\ndef meanpool(x_in):\n  x_out = np.zeros(( int(np.floor(x_in.shape[0]/2)), int(np.floor(x_in.shape[1]/2)) ))\n  # TO DO -- write the meanpool routine\n  # Replace this line\n  for i in range(x_out.shape[0]):\n    for j in range(x_out.shape[1]):\n      in_y = 2*i; in_x  = 2*j;\n      x_out[i,j] = np.mean(x_in[in_y:in_y+2, in_x:in_x+2])\n\n  return x_out"
        },
        {
            "cell_type": "code",
            "execution_count": null,
            "id": "05c3e0cb",
            "metadata": {
                "trusted": true
            },
            "outputs": [],
            "source": "print(\"Original:\")\nprint(orig_4_4)\nprint(\"Meanpooled:\")\nprint(meanpool(orig_4_4))"
        },
        {
            "cell_type": "code",
            "execution_count": null,
            "id": "69591868",
            "metadata": {
                "trusted": true
            },
            "outputs": [],
            "source": "# Let's see what Rick looks like:\ndata_meanpool = meanpool(data);\n\nplt.figure(figsize=(5,5))\nplt.imshow(data, cmap='gray')\nplt.show()\n\nplt.figure(figsize=(5,5))\nplt.imshow(data_meanpool, cmap='gray')\nplt.show()\n\ndata_meanpool2 = meanpool(data_maxpool)\nplt.figure(figsize=(5,5))\nplt.imshow(data_meanpool2, cmap='gray')\nplt.show()\n\ndata_meanpool3 = meanpool(data_meanpool2)\nplt.figure(figsize=(5,5))\nplt.imshow(data_meanpool3, cmap='gray')\nplt.show()"
        },
        {
            "cell_type": "markdown",
            "id": "33ce03c6",
            "metadata": {},
            "source": "Notice that the three low resolution images look quite different. <br>\n\nNow let's upscale them again"
        },
        {
            "cell_type": "code",
            "execution_count": null,
            "id": "eddb66e0",
            "metadata": {
                "trusted": true
            },
            "outputs": [],
            "source": "# Define 2 by 2 original patch\norig_2_2 = np.array([[6, 8], [8,4]])\nprint(orig_2_2)"
        },
        {
            "cell_type": "code",
            "execution_count": null,
            "id": "d8341192",
            "metadata": {
                "trusted": true
            },
            "outputs": [],
            "source": "# Let's first use the duplication method\ndef duplicate(x_in):\n  x_out = np.zeros(( x_in.shape[0]*2, x_in.shape[1]*2 ))\n  # TO DO -- write the duplication routine\n  # Replace this line\n  for i in range(x_in.shape[0]):\n    for j in range(x_in.shape[1]):\n      out_i = i*2; out_j = j*2;\n      x_out = x_in.repeat(2, axis=0).repeat(2,axis=1)\n\n  return x_out"
        },
        {
            "cell_type": "code",
            "execution_count": null,
            "id": "a0de3347",
            "metadata": {
                "trusted": true
            },
            "outputs": [],
            "source": "print(\"Original:\")\nprint(orig_2_2)\nprint(\"Duplicated:\")\nprint(duplicate(orig_2_2))"
        },
        {
            "cell_type": "code",
            "execution_count": null,
            "id": "708872ad",
            "metadata": {
                "trusted": true
            },
            "outputs": [],
            "source": "# Let's re-upsample, sub-sampled rick\ndata_duplicate = duplicate(data_subsample3);\n\nplt.figure(figsize=(5,5))\nplt.imshow(data_subsample3, cmap='gray')\nplt.show()\n\nplt.figure(figsize=(5,5))\nplt.imshow(data_duplicate, cmap='gray')\nplt.show()\n\ndata_duplicate2 = duplicate(data_duplicate)\nplt.figure(figsize=(5,5))\nplt.imshow(data_duplicate2, cmap='gray')\nplt.show()\n\ndata_duplicate3 = duplicate(data_duplicate2)\nplt.figure(figsize=(5,5))\nplt.imshow(data_duplicate3, cmap='gray')\nplt.show()"
        },
        {
            "cell_type": "markdown",
            "id": "d9626b15",
            "metadata": {},
            "source": "They look the same, but if you look at the axes, you'll see that the pixels are just duplicated."
        },
        {
            "cell_type": "code",
            "execution_count": null,
            "id": "6dcc9961",
            "metadata": {
                "trusted": true
            },
            "outputs": [],
            "source": "# Now let's try max pooling back up\n# The input x_high_res is the original high res image, from which you can deduce the position of the maximum index\ndef max_unpool(x_in, x_high_res):\n  x_out = np.zeros(( x_in.shape[0]*2, x_in.shape[1]*2 ))\n  # TO DO -- write the subsampling routine\n  # Replace this line\n  for i in range(x_in.shape[0]):\n    for j in range(x_in.shape[1]):\n      out_i = i*2; out_j = j*2;\n      pool = x_high_res[out_i:out_i+2, out_j:out_j+2]\n\n      # np.argmax essentially converts the input into a 1D array before finding\n      #   the index of the largest value.\n      # We want the index to be in the same shape as the original array.\n      # np.unravel_index coverts a 1D index into an n-D index based on the\n      #   second argument, which is a shape tuple\n      max_pi = np.unravel_index(np.argmax(pool), pool.shape)\n      max_index = np.array([out_i+max_pi[0], out_j+max_pi[1]])\n      x_out[max_index[0], max_index[1]] = x_in[i, j]\n\n\n  return x_out"
        },
        {
            "cell_type": "code",
            "execution_count": null,
            "id": "9970a8c9",
            "metadata": {
                "trusted": true
            },
            "outputs": [],
            "source": "print(\"Original:\")\nprint(orig_2_2)\nprint(\"Max unpooled:\")\nprint(max_unpool(orig_2_2,orig_4_4))"
        },
        {
            "cell_type": "code",
            "execution_count": null,
            "id": "64e97e3d",
            "metadata": {
                "trusted": true
            },
            "outputs": [],
            "source": "# Let's re-upsample, sub-sampled rick\ndata_max_unpool= max_unpool(data_maxpool3,data_maxpool2);\n\nplt.figure(figsize=(5,5))\nplt.imshow(data_maxpool3, cmap='gray')\nplt.show()\n\nplt.figure(figsize=(5,5))\nplt.imshow(data_max_unpool, cmap='gray')\nplt.show()\n\ndata_max_unpool2 = max_unpool(data_max_unpool, data_maxpool)\nplt.figure(figsize=(5,5))\nplt.imshow(data_max_unpool2, cmap='gray')\nplt.show()\n\ndata_max_unpool3 = max_unpool(data_max_unpool2, data)\nplt.figure(figsize=(5,5))\nplt.imshow(data_max_unpool3, cmap='gray')\nplt.show()"
        },
        {
            "cell_type": "markdown",
            "id": "10a5cb28",
            "metadata": {},
            "source": "Finally, we'll try upsampling using bilinear interpolation.  We'll treat the positions off the image as zeros by padding the original image and round fractional values upwards using np.ceil()"
        },
        {
            "cell_type": "code",
            "execution_count": null,
            "id": "2c92a5e5",
            "metadata": {
                "trusted": true
            },
            "outputs": [],
            "source": "def bilinear(x_in):\n  x_out = np.zeros(( x_in.shape[0]*2, x_in.shape[1]*2 ))\n  x_in_pad = np.zeros((x_in.shape[0]+1, x_in.shape[1]+1))\n  x_in_pad[0:x_in.shape[0],0:x_in.shape[1]] = x_in\n  # TO DO -- write the duplication routine\n  # Replace this line\n\n  for i in range(x_in.shape[0]):\n    for j in range(x_in.shape[1]):\n      x_1 = j*2; y_1 = i*2; x_2 = x_1+1; y_2 = y_1+1;\n\n      w = np.zeros((2,2))\n      w[0,0] = (x_2 - x_1+0)*(y_2 - y_1+0) / ((x_2-x_1)*(y_2-y_1))\n      w[1,0] = (x_2 - 0)*(1+y_1 - y_1) / ((x_2-x_1)*(y_2-y_1))\n      w[0,1] = (x_2 - 0)*(y_2-0) / ((x_2-x_1)*(y_2-y_1))\n      w[1,1] = (x_2-0)*(y_2-0) / ((x_2-x_1)*(y_2-y_1))\n\n\n  return x_out"
        },
        {
            "cell_type": "code",
            "execution_count": null,
            "id": "272cad97",
            "metadata": {
                "trusted": true
            },
            "outputs": [],
            "source": "print(\"Original:\")\nprint(orig_2_2)\nprint(\"Bilinear:\")\nprint(bilinear(orig_2_2))"
        },
        {
            "cell_type": "code",
            "execution_count": null,
            "id": "a232c825",
            "metadata": {
                "trusted": true
            },
            "outputs": [],
            "source": "# Let's re-upsample, sub-sampled rick\ndata_bilinear = bilinear(data_meanpool3);\n\nplt.figure(figsize=(5,5))\nplt.imshow(data_meanpool3, cmap='gray')\nplt.show()\n\nplt.figure(figsize=(5,5))\nplt.imshow(data_bilinear, cmap='gray')\nplt.show()\n\ndata_bilinear2 = bilinear(data_bilinear)\nplt.figure(figsize=(5,5))\nplt.imshow(data_bilinear2, cmap='gray')\nplt.show()\n\ndata_bilinear3 = duplicate(data_bilinear2)\nplt.figure(figsize=(5,5))\nplt.imshow(data_bilinear3, cmap='gray')\nplt.show()"
        }
    ],
    "metadata": {
        "kernelspec": {
            "display_name": "Python 3 (ipykernel)",
            "language": "python",
            "name": "python3"
        },
        "language_info": {
            "codemirror_mode": {
                "name": "ipython",
                "version": 3
            },
            "file_extension": ".py",
            "mimetype": "text/x-python",
            "name": "python",
            "nbconvert_exporter": "python",
            "pygments_lexer": "ipython3",
            "version": "3.10.12"
        }
    },
    "nbformat": 4,
    "nbformat_minor": 5
}