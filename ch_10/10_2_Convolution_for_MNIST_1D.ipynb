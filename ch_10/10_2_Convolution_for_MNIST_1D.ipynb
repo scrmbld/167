{
 "cells": [
  {
   "cell_type": "markdown",
   "id": "5ea75d5f",
   "metadata": {},
   "source": [
    "<a href=\"https://colab.research.google.com/github/udlbook/udlbook/blob/main/Notebooks/Chap10/10_2_Convolution_for_MNIST_1D.ipynb\" target=\"_parent\"><img src=\"https://colab.research.google.com/assets/colab-badge.svg\" alt=\"Open In Colab\"/></a>"
   ]
  },
  {
   "cell_type": "markdown",
   "id": "2f5fa385",
   "metadata": {},
   "source": [
    "# **Notebook 10.2: Convolution for MNIST-1D**\n",
    "\n",
    "This notebook investigates a 1D convolutional network for MNIST-1D as in figure 10.7 and 10.8a.\n",
    "\n",
    "Work through the cells below, running each cell in turn. In various places you will see the words \"TO DO\". Follow the instructions at these places and make predictions about what is going to happen or write code to complete the functions.\n",
    "\n",
    "Contact me at udlbookmail@gmail.com if you find any mistakes or have any suggestions."
   ]
  },
  {
   "cell_type": "code",
   "execution_count": 1,
   "id": "896dcebf",
   "metadata": {},
   "outputs": [],
   "source": [
    "# Run this if you're in a Colab to install MNIST 1D repository\n",
    "# I am not in colab and don't want to run this by accident\n",
    "# !pip install git+https://github.com/greydanus/mnist1d"
   ]
  },
  {
   "cell_type": "code",
   "execution_count": 2,
   "id": "0a0c1029",
   "metadata": {},
   "outputs": [],
   "source": [
    "import numpy as np\n",
    "import os\n",
    "import torch, torch.nn as nn\n",
    "from torch.utils.data import TensorDataset, DataLoader\n",
    "from torch.optim.lr_scheduler import StepLR\n",
    "import matplotlib.pyplot as plt\n",
    "import mnist1d\n",
    "import random"
   ]
  },
  {
   "cell_type": "code",
   "execution_count": 3,
   "id": "af8e92f9",
   "metadata": {},
   "outputs": [
    {
     "name": "stdout",
     "output_type": "stream",
     "text": [
      "Did or could not load data from ./mnist1d_data.pkl. Rebuilding dataset...\n",
      "Examples in training set: 4000\n",
      "Examples in test set: 1000\n",
      "Length of each example: 40\n"
     ]
    }
   ],
   "source": [
    "args = mnist1d.data.get_dataset_args()\n",
    "data = mnist1d.data.get_dataset(args, path='./mnist1d_data.pkl', download=False, regenerate=False)\n",
    "\n",
    "# The training and test input and outputs are in\n",
    "# data['x'], data['y'], data['x_test'], and data['y_test']\n",
    "print(\"Examples in training set: {}\".format(len(data['y'])))\n",
    "print(\"Examples in test set: {}\".format(len(data['y_test'])))\n",
    "print(\"Length of each example: {}\".format(data['x'].shape[-1]))"
   ]
  },
  {
   "cell_type": "code",
   "execution_count": 4,
   "id": "753e7656",
   "metadata": {},
   "outputs": [
    {
     "name": "stdout",
     "output_type": "stream",
     "text": [
      "Train data: 4000 examples (columns), each of which has 40 dimensions (rows)\n",
      "Validation data: 1000 examples (columns), each of which has 40 dimensions (rows)\n"
     ]
    }
   ],
   "source": [
    "# Load in the data\n",
    "train_data_x = data['x'].transpose()\n",
    "train_data_y = data['y']\n",
    "val_data_x = data['x_test'].transpose()\n",
    "val_data_y = data['y_test']\n",
    "# Print out sizes\n",
    "print(\"Train data: %d examples (columns), each of which has %d dimensions (rows)\"%((train_data_x.shape[1],train_data_x.shape[0])))\n",
    "print(\"Validation data: %d examples (columns), each of which has %d dimensions (rows)\"%((val_data_x.shape[1],val_data_x.shape[0])))"
   ]
  },
  {
   "cell_type": "markdown",
   "id": "5811a639",
   "metadata": {},
   "source": [
    "Define the network"
   ]
  },
  {
   "cell_type": "code",
   "execution_count": 5,
   "id": "42c63f13",
   "metadata": {},
   "outputs": [],
   "source": [
    "# There are 40 input dimensions and 10 output dimensions for this data\n",
    "# The inputs correspond to the 40 offsets in the MNIST1D template.\n",
    "D_i = 40\n",
    "# The outputs correspond to the 10 digits\n",
    "D_o = 10\n",
    "\n",
    "\n",
    "# TODO Create a model with the following layers\n",
    "# 1. Convolutional layer, (input=length 40 and 1 channel, kernel size 3, stride 2, padding=\"valid\", 15 output channels )\n",
    "# 2. ReLU\n",
    "# 3. Convolutional layer, (input=length 19 and 15 channels, kernel size 3, stride 2, padding=\"valid\", 15 output channels )\n",
    "# 4. ReLU\n",
    "# 5. Convolutional layer, (input=length 9 and 15 channels, kernel size 3, stride 2, padding=\"valid\", 15 output channels)\n",
    "# 6. ReLU\n",
    "# 7. Flatten (converts 4x15) to length 60\n",
    "# 8. Linear layer (input size = 60, output size = 10)\n",
    "# References:\n",
    "# https://pytorch.org/docs/1.13/generated/torch.nn.Conv1d.html?highlight=conv1d#torch.nn.Conv1d\n",
    "# https://pytorch.org/docs/stable/generated/torch.nn.Flatten.html\n",
    "# https://pytorch.org/docs/1.13/generated/torch.nn.Linear.html?highlight=linear#torch.nn.Linear\n",
    "\n",
    "\n",
    "# NOTE THAT THE CONVOLUTIONAL LAYERS NEED TO TAKE THE NUMBER OF INPUT CHANNELS AS A PARAMETER\n",
    "# AND NOT THE INPUT SIZE.\n",
    "\n",
    "channels = 15\n",
    "model = torch.nn.Sequential(\n",
    "  nn.Conv1d(1, channels, kernel_size=3, stride=2, padding=\"valid\"),\n",
    "  nn.ReLU(),\n",
    "  nn.Conv1d(channels, channels, kernel_size=3, stride=2, padding=\"valid\"),\n",
    "  nn.ReLU(),\n",
    "  nn.Conv1d(channels, channels, kernel_size=3, stride=2, padding=\"valid\"),\n",
    "  nn.ReLU(),\n",
    "  nn.Flatten(),\n",
    "  nn.Linear(channels * 4, 10),\n",
    "  nn.Softmax(1)\n",
    ")"
   ]
  },
  {
   "cell_type": "code",
   "execution_count": 6,
   "id": "7cd84309",
   "metadata": {},
   "outputs": [],
   "source": [
    "# He initialization of weights\n",
    "def weights_init(layer_in):\n",
    "  if isinstance(layer_in, nn.Linear):\n",
    "    nn.init.kaiming_uniform_(layer_in.weight)\n",
    "    layer_in.bias.data.fill_(0.0)"
   ]
  },
  {
   "cell_type": "code",
   "execution_count": 7,
   "id": "dd0b19a8",
   "metadata": {},
   "outputs": [
    {
     "name": "stdout",
     "output_type": "stream",
     "text": [
      "Epoch     0, train loss 2.299111, train error 85.93,  val loss 2.299622, percent error 87.70\n",
      "Epoch     1, train loss 2.285648, train error 83.07,  val loss 2.286711, percent error 83.90\n",
      "Epoch     2, train loss 2.215660, train error 80.03,  val loss 2.225226, percent error 81.10\n",
      "Epoch     3, train loss 2.169739, train error 70.32,  val loss 2.185709, percent error 71.30\n",
      "Epoch     4, train loss 2.125989, train error 65.38,  val loss 2.148787, percent error 69.80\n",
      "Epoch     5, train loss 2.090033, train error 61.10,  val loss 2.116287, percent error 65.40\n",
      "Epoch     6, train loss 2.064422, train error 59.00,  val loss 2.084659, percent error 62.40\n",
      "Epoch     7, train loss 2.052765, train error 58.80,  val loss 2.073961, percent error 60.70\n",
      "Epoch     8, train loss 2.030213, train error 56.30,  val loss 2.055960, percent error 59.60\n",
      "Epoch     9, train loss 2.024691, train error 55.62,  val loss 2.046329, percent error 57.80\n",
      "Epoch    10, train loss 2.048296, train error 58.78,  val loss 2.065778, percent error 61.20\n",
      "Epoch    11, train loss 2.010535, train error 54.85,  val loss 2.026180, percent error 56.80\n",
      "Epoch    12, train loss 2.009588, train error 54.60,  val loss 2.025153, percent error 56.10\n",
      "Epoch    13, train loss 2.013180, train error 55.15,  val loss 2.036742, percent error 58.40\n",
      "Epoch    14, train loss 1.989130, train error 52.75,  val loss 2.004615, percent error 54.10\n",
      "Epoch    15, train loss 1.989075, train error 52.55,  val loss 2.004648, percent error 54.30\n",
      "Epoch    16, train loss 1.981050, train error 51.08,  val loss 1.996647, percent error 53.30\n",
      "Epoch    17, train loss 2.026596, train error 57.20,  val loss 2.043679, percent error 59.60\n",
      "Epoch    18, train loss 1.983528, train error 51.50,  val loss 1.998355, percent error 53.60\n",
      "Epoch    19, train loss 1.966974, train error 50.33,  val loss 1.989945, percent error 54.00\n",
      "Epoch    20, train loss 1.951864, train error 48.58,  val loss 1.973112, percent error 51.10\n",
      "Epoch    21, train loss 1.950217, train error 48.10,  val loss 1.975104, percent error 50.60\n",
      "Epoch    22, train loss 1.947836, train error 48.12,  val loss 1.966588, percent error 50.30\n",
      "Epoch    23, train loss 1.947314, train error 48.25,  val loss 1.978537, percent error 52.50\n",
      "Epoch    24, train loss 1.940681, train error 48.08,  val loss 1.963954, percent error 49.90\n",
      "Epoch    25, train loss 1.937139, train error 47.15,  val loss 1.964100, percent error 49.70\n",
      "Epoch    26, train loss 1.927897, train error 46.17,  val loss 1.951919, percent error 48.50\n",
      "Epoch    27, train loss 1.926987, train error 46.22,  val loss 1.959962, percent error 49.90\n",
      "Epoch    28, train loss 1.922494, train error 45.33,  val loss 1.947033, percent error 48.00\n",
      "Epoch    29, train loss 1.918683, train error 44.70,  val loss 1.940957, percent error 47.30\n",
      "Epoch    30, train loss 1.917145, train error 44.78,  val loss 1.946350, percent error 49.10\n",
      "Epoch    31, train loss 1.911745, train error 44.20,  val loss 1.934650, percent error 47.10\n",
      "Epoch    32, train loss 1.905736, train error 43.75,  val loss 1.934458, percent error 47.40\n",
      "Epoch    33, train loss 1.910003, train error 44.30,  val loss 1.936595, percent error 47.30\n",
      "Epoch    34, train loss 1.907679, train error 44.20,  val loss 1.935359, percent error 47.60\n",
      "Epoch    35, train loss 1.895494, train error 42.67,  val loss 1.923121, percent error 45.70\n",
      "Epoch    36, train loss 1.900717, train error 43.35,  val loss 1.928134, percent error 46.90\n",
      "Epoch    37, train loss 1.899687, train error 43.38,  val loss 1.927558, percent error 46.80\n",
      "Epoch    38, train loss 1.891242, train error 42.50,  val loss 1.915886, percent error 44.60\n",
      "Epoch    39, train loss 1.888693, train error 42.22,  val loss 1.919588, percent error 45.30\n",
      "Epoch    40, train loss 1.881229, train error 41.33,  val loss 1.919428, percent error 45.60\n",
      "Epoch    41, train loss 1.876443, train error 40.85,  val loss 1.907817, percent error 43.60\n",
      "Epoch    42, train loss 1.875351, train error 40.70,  val loss 1.908035, percent error 44.40\n",
      "Epoch    43, train loss 1.877602, train error 40.90,  val loss 1.909429, percent error 44.20\n",
      "Epoch    44, train loss 1.871913, train error 40.45,  val loss 1.906342, percent error 43.90\n",
      "Epoch    45, train loss 1.871130, train error 40.33,  val loss 1.907646, percent error 44.90\n",
      "Epoch    46, train loss 1.869282, train error 40.15,  val loss 1.904523, percent error 44.00\n",
      "Epoch    47, train loss 1.870726, train error 40.25,  val loss 1.907477, percent error 44.60\n",
      "Epoch    48, train loss 1.865983, train error 39.90,  val loss 1.902885, percent error 43.70\n",
      "Epoch    49, train loss 1.869896, train error 39.88,  val loss 1.896764, percent error 42.50\n",
      "Epoch    50, train loss 1.863764, train error 39.70,  val loss 1.902771, percent error 44.40\n",
      "Epoch    51, train loss 1.865287, train error 39.70,  val loss 1.900483, percent error 43.80\n",
      "Epoch    52, train loss 1.860697, train error 39.12,  val loss 1.895159, percent error 42.80\n",
      "Epoch    53, train loss 1.858621, train error 38.92,  val loss 1.896379, percent error 43.00\n",
      "Epoch    54, train loss 1.857637, train error 38.95,  val loss 1.892758, percent error 42.70\n",
      "Epoch    55, train loss 1.856636, train error 39.00,  val loss 1.895212, percent error 43.30\n",
      "Epoch    56, train loss 1.859610, train error 39.30,  val loss 1.898619, percent error 43.70\n",
      "Epoch    57, train loss 1.852056, train error 38.38,  val loss 1.892388, percent error 43.60\n",
      "Epoch    58, train loss 1.851862, train error 38.35,  val loss 1.888768, percent error 42.70\n",
      "Epoch    59, train loss 1.849983, train error 37.97,  val loss 1.888295, percent error 42.60\n",
      "Epoch    60, train loss 1.848614, train error 37.90,  val loss 1.889889, percent error 43.20\n",
      "Epoch    61, train loss 1.846956, train error 37.75,  val loss 1.887707, percent error 42.30\n",
      "Epoch    62, train loss 1.847065, train error 37.85,  val loss 1.883715, percent error 42.20\n",
      "Epoch    63, train loss 1.845395, train error 37.65,  val loss 1.884726, percent error 42.50\n",
      "Epoch    64, train loss 1.844994, train error 37.58,  val loss 1.883982, percent error 42.20\n",
      "Epoch    65, train loss 1.844359, train error 37.42,  val loss 1.883345, percent error 42.30\n",
      "Epoch    66, train loss 1.844052, train error 37.35,  val loss 1.883800, percent error 42.20\n",
      "Epoch    67, train loss 1.846912, train error 37.72,  val loss 1.887487, percent error 42.90\n",
      "Epoch    68, train loss 1.842519, train error 37.58,  val loss 1.881343, percent error 41.90\n",
      "Epoch    69, train loss 1.841437, train error 37.03,  val loss 1.880322, percent error 42.00\n",
      "Epoch    70, train loss 1.840780, train error 37.00,  val loss 1.881025, percent error 42.00\n",
      "Epoch    71, train loss 1.841954, train error 37.08,  val loss 1.882098, percent error 42.40\n",
      "Epoch    72, train loss 1.841571, train error 37.22,  val loss 1.883340, percent error 42.20\n",
      "Epoch    73, train loss 1.839096, train error 36.97,  val loss 1.877564, percent error 41.70\n",
      "Epoch    74, train loss 1.838577, train error 36.97,  val loss 1.879339, percent error 42.60\n",
      "Epoch    75, train loss 1.838050, train error 36.90,  val loss 1.880030, percent error 42.00\n",
      "Epoch    76, train loss 1.838296, train error 36.88,  val loss 1.877523, percent error 42.00\n",
      "Epoch    77, train loss 1.837008, train error 36.72,  val loss 1.877079, percent error 41.90\n",
      "Epoch    78, train loss 1.836507, train error 36.83,  val loss 1.873918, percent error 41.90\n",
      "Epoch    79, train loss 1.836339, train error 36.60,  val loss 1.878053, percent error 41.60\n",
      "Epoch    80, train loss 1.835859, train error 36.53,  val loss 1.875128, percent error 41.30\n",
      "Epoch    81, train loss 1.834329, train error 36.40,  val loss 1.875166, percent error 41.50\n",
      "Epoch    82, train loss 1.833989, train error 36.42,  val loss 1.874715, percent error 41.50\n",
      "Epoch    83, train loss 1.833753, train error 36.25,  val loss 1.874726, percent error 41.60\n",
      "Epoch    84, train loss 1.833530, train error 36.22,  val loss 1.873437, percent error 41.60\n",
      "Epoch    85, train loss 1.833507, train error 36.30,  val loss 1.873138, percent error 41.70\n",
      "Epoch    86, train loss 1.832741, train error 36.17,  val loss 1.873601, percent error 41.40\n",
      "Epoch    87, train loss 1.832380, train error 36.08,  val loss 1.872930, percent error 41.60\n",
      "Epoch    88, train loss 1.832384, train error 36.12,  val loss 1.871421, percent error 41.40\n",
      "Epoch    89, train loss 1.831843, train error 36.05,  val loss 1.871535, percent error 41.30\n"
     ]
    },
    {
     "name": "stdout",
     "output_type": "stream",
     "text": [
      "Epoch    90, train loss 1.831675, train error 35.90,  val loss 1.871805, percent error 41.30\n",
      "Epoch    91, train loss 1.831278, train error 35.97,  val loss 1.871982, percent error 41.40\n",
      "Epoch    92, train loss 1.830930, train error 35.95,  val loss 1.871331, percent error 41.50\n",
      "Epoch    93, train loss 1.831836, train error 36.05,  val loss 1.871086, percent error 40.90\n",
      "Epoch    94, train loss 1.830948, train error 35.90,  val loss 1.873346, percent error 41.30\n",
      "Epoch    95, train loss 1.830271, train error 35.90,  val loss 1.870427, percent error 41.00\n",
      "Epoch    96, train loss 1.830096, train error 35.95,  val loss 1.869497, percent error 41.20\n",
      "Epoch    97, train loss 1.830049, train error 35.88,  val loss 1.871255, percent error 41.40\n",
      "Epoch    98, train loss 1.829351, train error 35.88,  val loss 1.870173, percent error 41.00\n",
      "Epoch    99, train loss 1.829396, train error 35.78,  val loss 1.870939, percent error 41.10\n"
     ]
    },
    {
     "data": {
      "image/png": "[encoded data removed]",
      "text/plain": [
       "<Figure size 640x480 with 1 Axes>"
      ]
     },
     "metadata": {},
     "output_type": "display_data"
    }
   ],
   "source": [
    "# choose cross entropy loss function (equation 5.24 in the loss notes)\n",
    "loss_function = nn.CrossEntropyLoss()\n",
    "# construct SGD optimizer and initialize learning rate and momentum\n",
    "optimizer = torch.optim.SGD(model.parameters(), lr = 0.05, momentum=0.9)\n",
    "# object that decreases learning rate by half every 20 epochs\n",
    "scheduler = StepLR(optimizer, step_size=20, gamma=0.5)\n",
    "# create 100 dummy data points and store in data loader class\n",
    "x_train = torch.tensor(train_data_x.transpose().astype('float32'))\n",
    "y_train = torch.tensor(train_data_y.astype('long')).long()\n",
    "x_val= torch.tensor(val_data_x.transpose().astype('float32'))\n",
    "y_val = torch.tensor(val_data_y.astype('long')).long()\n",
    "\n",
    "# load the data into a class that creates the batches\n",
    "data_loader = DataLoader(TensorDataset(x_train,y_train), batch_size=100, shuffle=True, worker_init_fn=np.random.seed(1))\n",
    "\n",
    "# Initialize model weights\n",
    "model.apply(weights_init)\n",
    "\n",
    "# loop over the dataset n_epoch times\n",
    "n_epoch = 100\n",
    "# store the loss and the % correct at each epoch\n",
    "losses_train = np.zeros((n_epoch))\n",
    "errors_train = np.zeros((n_epoch))\n",
    "losses_val = np.zeros((n_epoch))\n",
    "errors_val = np.zeros((n_epoch))\n",
    "\n",
    "for epoch in range(n_epoch):\n",
    "  # loop over batches\n",
    "  for i, data in enumerate(data_loader):\n",
    "    # retrieve inputs and labels for this batch\n",
    "    x_batch, y_batch = data\n",
    "    # zero the parameter gradients\n",
    "    optimizer.zero_grad()\n",
    "    # forward pass -- calculate model output\n",
    "    pred = model(x_batch[:,None,:])\n",
    "    # compute the loss\n",
    "    loss = loss_function(pred, y_batch)\n",
    "    # backward pass\n",
    "    loss.backward()\n",
    "    # SGD update\n",
    "    optimizer.step()\n",
    "\n",
    "  # Run whole dataset to get statistics -- normally wouldn't do this\n",
    "  pred_train = model(x_train[:,None,:])\n",
    "  pred_val = model(x_val[:,None,:])\n",
    "  _, predicted_train_class = torch.max(pred_train.data, 1)\n",
    "  _, predicted_val_class = torch.max(pred_val.data, 1)\n",
    "  errors_train[epoch] = 100 - 100 * (predicted_train_class == y_train).float().sum() / len(y_train)\n",
    "  errors_val[epoch]= 100 - 100 * (predicted_val_class == y_val).float().sum() / len(y_val)\n",
    "  losses_train[epoch] = loss_function(pred_train, y_train).item()\n",
    "  losses_val[epoch]= loss_function(pred_val, y_val).item()\n",
    "  print(f'Epoch {epoch:5d}, train loss {losses_train[epoch]:.6f}, train error {errors_train[epoch]:3.2f},  val loss {losses_val[epoch]:.6f}, percent error {errors_val[epoch]:3.2f}')\n",
    "\n",
    "  # tell scheduler to consider updating learning rate\n",
    "  scheduler.step()\n",
    "\n",
    "# Plot the results\n",
    "fig, ax = plt.subplots()\n",
    "ax.plot(errors_train,'r-',label='train')\n",
    "ax.plot(errors_val,'b-',label='validation')\n",
    "ax.set_ylim(0,100); ax.set_xlim(0,n_epoch)\n",
    "ax.set_xlabel('Epoch'); ax.set_ylabel('Error')\n",
    "ax.set_title('Part I: Validation Result %3.2f'%(errors_val[-1]))\n",
    "ax.legend()\n",
    "plt.show()"
   ]
  }
 ],
 "metadata": {
  "kernelspec": {
   "display_name": "Python 3 (ipykernel)",
   "language": "python",
   "name": "python3"
  },
  "language_info": {
   "codemirror_mode": {
    "name": "ipython",
    "version": 3
   },
   "file_extension": ".py",
   "mimetype": "text/x-python",
   "name": "python",
   "nbconvert_exporter": "python",
   "pygments_lexer": "ipython3",
   "version": "3.10.12"
  }
 },
 "nbformat": 4,
 "nbformat_minor": 5
}
