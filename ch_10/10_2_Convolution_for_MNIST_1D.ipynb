{
 "cells": [
  {
   "cell_type": "markdown",
   "id": "5ea75d5f",
   "metadata": {},
   "source": [
    "<a href=\"https://colab.research.google.com/github/udlbook/udlbook/blob/main/Notebooks/Chap10/10_2_Convolution_for_MNIST_1D.ipynb\" target=\"_parent\"><img src=\"https://colab.research.google.com/assets/colab-badge.svg\" alt=\"Open In Colab\"/></a>"
   ]
  },
  {
   "cell_type": "markdown",
   "id": "2f5fa385",
   "metadata": {},
   "source": [
    "# **Notebook 10.2: Convolution for MNIST-1D**\n",
    "\n",
    "This notebook investigates a 1D convolutional network for MNIST-1D as in figure 10.7 and 10.8a.\n",
    "\n",
    "Work through the cells below, running each cell in turn. In various places you will see the words \"TO DO\". Follow the instructions at these places and make predictions about what is going to happen or write code to complete the functions.\n",
    "\n",
    "Contact me at udlbookmail@gmail.com if you find any mistakes or have any suggestions."
   ]
  },
  {
   "cell_type": "code",
   "execution_count": 1,
   "id": "896dcebf",
   "metadata": {},
   "outputs": [],
   "source": [
    "# Run this if you're in a Colab to install MNIST 1D repository\n",
    "# I am not in colab and don't want to run this by accident\n",
    "# !pip install git+https://github.com/greydanus/mnist1d"
   ]
  },
  {
   "cell_type": "code",
   "execution_count": 2,
   "id": "0a0c1029",
   "metadata": {},
   "outputs": [],
   "source": [
    "import numpy as np\n",
    "import os\n",
    "import torch, torch.nn as nn\n",
    "from torch.utils.data import TensorDataset, DataLoader\n",
    "from torch.optim.lr_scheduler import StepLR\n",
    "import matplotlib.pyplot as plt\n",
    "import mnist1d\n",
    "import random"
   ]
  },
  {
   "cell_type": "code",
   "execution_count": 3,
   "id": "af8e92f9",
   "metadata": {},
   "outputs": [
    {
     "name": "stdout",
     "output_type": "stream",
     "text": [
      "Successfully loaded data from ./mnist1d_data.pkl\n",
      "Examples in training set: 4000\n",
      "Examples in test set: 1000\n",
      "Length of each example: 40\n"
     ]
    }
   ],
   "source": [
    "args = mnist1d.data.get_dataset_args()\n",
    "data = mnist1d.data.get_dataset(args, path='./mnist1d_data.pkl', download=False, regenerate=False)\n",
    "\n",
    "# The training and test input and outputs are in\n",
    "# data['x'], data['y'], data['x_test'], and data['y_test']\n",
    "print(\"Examples in training set: {}\".format(len(data['y'])))\n",
    "print(\"Examples in test set: {}\".format(len(data['y_test'])))\n",
    "print(\"Length of each example: {}\".format(data['x'].shape[-1]))"
   ]
  },
  {
   "cell_type": "code",
   "execution_count": 4,
   "id": "753e7656",
   "metadata": {},
   "outputs": [
    {
     "name": "stdout",
     "output_type": "stream",
     "text": [
      "Train data: 4000 examples (columns), each of which has 40 dimensions (rows)\n",
      "Validation data: 1000 examples (columns), each of which has 40 dimensions (rows)\n"
     ]
    }
   ],
   "source": [
    "# Load in the data\n",
    "train_data_x = data['x'].transpose()\n",
    "train_data_y = data['y']\n",
    "val_data_x = data['x_test'].transpose()\n",
    "val_data_y = data['y_test']\n",
    "# Print out sizes\n",
    "print(\"Train data: %d examples (columns), each of which has %d dimensions (rows)\"%((train_data_x.shape[1],train_data_x.shape[0])))\n",
    "print(\"Validation data: %d examples (columns), each of which has %d dimensions (rows)\"%((val_data_x.shape[1],val_data_x.shape[0])))"
   ]
  },
  {
   "cell_type": "markdown",
   "id": "5811a639",
   "metadata": {},
   "source": [
    "Define the network"
   ]
  },
  {
   "cell_type": "code",
   "execution_count": 5,
   "id": "42c63f13",
   "metadata": {},
   "outputs": [],
   "source": [
    "# There are 40 input dimensions and 10 output dimensions for this data\n",
    "# The inputs correspond to the 40 offsets in the MNIST1D template.\n",
    "D_i = 40\n",
    "# The outputs correspond to the 10 digits\n",
    "D_o = 10\n",
    "\n",
    "\n",
    "# TODO Create a model with the following layers\n",
    "# 1. Convolutional layer, (input=length 40 and 1 channel, kernel size 3, stride 2, padding=\"valid\", 15 output channels )\n",
    "# 2. ReLU\n",
    "# 3. Convolutional layer, (input=length 19 and 15 channels, kernel size 3, stride 2, padding=\"valid\", 15 output channels )\n",
    "# 4. ReLU\n",
    "# 5. Convolutional layer, (input=length 9 and 15 channels, kernel size 3, stride 2, padding=\"valid\", 15 output channels)\n",
    "# 6. ReLU\n",
    "# 7. Flatten (converts 4x15) to length 60\n",
    "# 8. Linear layer (input size = 60, output size = 10)\n",
    "# References:\n",
    "# https://pytorch.org/docs/1.13/generated/torch.nn.Conv1d.html?highlight=conv1d#torch.nn.Conv1d\n",
    "# https://pytorch.org/docs/stable/generated/torch.nn.Flatten.html\n",
    "# https://pytorch.org/docs/1.13/generated/torch.nn.Linear.html?highlight=linear#torch.nn.Linear\n",
    "\n",
    "\n",
    "# NOTE THAT THE CONVOLUTIONAL LAYERS NEED TO TAKE THE NUMBER OF INPUT CHANNELS AS A PARAMETER\n",
    "# AND NOT THE INPUT SIZE.\n",
    "\n",
    "channels = 15\n",
    "model = torch.nn.Sequential(\n",
    "  nn.Conv1d(1, channels, kernel_size=3, stride=2, padding=\"valid\"),\n",
    "  nn.ReLU(),\n",
    "  nn.Conv1d(channels, channels, kernel_size=3, stride=2, padding=\"valid\"),\n",
    "  nn.ReLU(),\n",
    "  nn.Conv1d(channels, channels, kernel_size=3, stride=2, padding=\"valid\"),\n",
    "  nn.ReLU(),\n",
    "  nn.Flatten(),\n",
    "  nn.Linear(channels * 4, 10),\n",
    "  nn.Softmax(1)\n",
    ")"
   ]
  },
  {
   "cell_type": "code",
   "execution_count": 6,
   "id": "7cd84309",
   "metadata": {},
   "outputs": [],
   "source": [
    "# He initialization of weights\n",
    "def weights_init(layer_in):\n",
    "  if isinstance(layer_in, nn.Linear):\n",
    "    nn.init.kaiming_uniform_(layer_in.weight)\n",
    "    layer_in.bias.data.fill_(0.0)"
   ]
  },
  {
   "cell_type": "code",
   "execution_count": 7,
   "id": "dd0b19a8",
   "metadata": {},
   "outputs": [
    {
     "name": "stdout",
     "output_type": "stream",
     "text": [
      "Epoch     0, train loss 2.293868, train error 84.32,  val loss 2.293468, percent error 84.30\n",
      "Epoch     1, train loss 2.241462, train error 80.43,  val loss 2.242085, percent error 81.70\n",
      "Epoch     2, train loss 2.202679, train error 77.88,  val loss 2.212208, percent error 77.90\n",
      "Epoch     3, train loss 2.181799, train error 73.90,  val loss 2.191449, percent error 74.50\n",
      "Epoch     4, train loss 2.153476, train error 69.82,  val loss 2.164255, percent error 70.10\n",
      "Epoch     5, train loss 2.133245, train error 68.72,  val loss 2.148459, percent error 71.10\n",
      "Epoch     6, train loss 2.118909, train error 66.12,  val loss 2.129371, percent error 67.50\n",
      "Epoch     7, train loss 2.095397, train error 63.58,  val loss 2.109183, percent error 65.90\n",
      "Epoch     8, train loss 2.102935, train error 64.72,  val loss 2.113917, percent error 66.60\n",
      "Epoch     9, train loss 2.064916, train error 59.78,  val loss 2.082081, percent error 62.90\n",
      "Epoch    10, train loss 2.067608, train error 60.45,  val loss 2.078786, percent error 62.30\n",
      "Epoch    11, train loss 2.052976, train error 60.47,  val loss 2.082654, percent error 63.20\n",
      "Epoch    12, train loss 2.021496, train error 55.22,  val loss 2.048398, percent error 59.40\n",
      "Epoch    13, train loss 2.022938, train error 56.60,  val loss 2.048174, percent error 58.90\n",
      "Epoch    14, train loss 2.008181, train error 55.22,  val loss 2.044739, percent error 59.10\n",
      "Epoch    15, train loss 1.989227, train error 52.38,  val loss 2.028712, percent error 58.50\n",
      "Epoch    16, train loss 1.993918, train error 53.20,  val loss 2.030653, percent error 57.50\n",
      "Epoch    17, train loss 1.991898, train error 52.22,  val loss 2.035798, percent error 58.30\n",
      "Epoch    18, train loss 1.968616, train error 49.90,  val loss 2.007817, percent error 54.80\n",
      "Epoch    19, train loss 1.955858, train error 49.62,  val loss 2.001569, percent error 55.90\n",
      "Epoch    20, train loss 1.942364, train error 47.15,  val loss 1.991550, percent error 53.30\n",
      "Epoch    21, train loss 1.928563, train error 46.17,  val loss 1.979775, percent error 52.80\n",
      "Epoch    22, train loss 1.918436, train error 44.83,  val loss 1.974464, percent error 52.00\n",
      "Epoch    23, train loss 1.938191, train error 47.45,  val loss 1.998429, percent error 54.20\n",
      "Epoch    24, train loss 1.941839, train error 48.03,  val loss 1.982457, percent error 52.40\n",
      "Epoch    25, train loss 1.909520, train error 44.05,  val loss 1.970470, percent error 52.10\n",
      "Epoch    26, train loss 1.890490, train error 41.70,  val loss 1.950780, percent error 49.50\n",
      "Epoch    27, train loss 1.886621, train error 41.67,  val loss 1.944565, percent error 48.80\n",
      "Epoch    28, train loss 1.884619, train error 41.40,  val loss 1.946753, percent error 48.50\n",
      "Epoch    29, train loss 1.884374, train error 41.60,  val loss 1.947450, percent error 48.70\n",
      "Epoch    30, train loss 1.867681, train error 39.80,  val loss 1.934534, percent error 47.90\n",
      "Epoch    31, train loss 1.870238, train error 39.92,  val loss 1.932514, percent error 47.10\n",
      "Epoch    32, train loss 1.864349, train error 39.38,  val loss 1.929023, percent error 46.50\n",
      "Epoch    33, train loss 1.887976, train error 41.97,  val loss 1.947423, percent error 49.20\n",
      "Epoch    34, train loss 1.854440, train error 38.40,  val loss 1.920323, percent error 46.00\n",
      "Epoch    35, train loss 1.853671, train error 38.42,  val loss 1.919344, percent error 45.00\n",
      "Epoch    36, train loss 1.838686, train error 36.92,  val loss 1.911221, percent error 44.80\n",
      "Epoch    37, train loss 1.836746, train error 36.88,  val loss 1.904977, percent error 44.60\n",
      "Epoch    38, train loss 1.839028, train error 36.95,  val loss 1.912431, percent error 45.40\n",
      "Epoch    39, train loss 1.841625, train error 37.25,  val loss 1.911005, percent error 45.40\n",
      "Epoch    40, train loss 1.825705, train error 35.18,  val loss 1.899716, percent error 44.30\n",
      "Epoch    41, train loss 1.819843, train error 34.65,  val loss 1.897248, percent error 43.10\n",
      "Epoch    42, train loss 1.831339, train error 36.40,  val loss 1.902317, percent error 44.60\n",
      "Epoch    43, train loss 1.819612, train error 34.93,  val loss 1.897454, percent error 44.20\n",
      "Epoch    44, train loss 1.814428, train error 34.00,  val loss 1.893274, percent error 43.20\n",
      "Epoch    45, train loss 1.815561, train error 34.15,  val loss 1.887807, percent error 42.20\n",
      "Epoch    46, train loss 1.810322, train error 33.62,  val loss 1.892628, percent error 44.00\n",
      "Epoch    47, train loss 1.810762, train error 33.82,  val loss 1.892817, percent error 42.90\n",
      "Epoch    48, train loss 1.807005, train error 33.57,  val loss 1.891378, percent error 43.20\n",
      "Epoch    49, train loss 1.807885, train error 33.28,  val loss 1.888846, percent error 42.80\n",
      "Epoch    50, train loss 1.804939, train error 33.12,  val loss 1.886192, percent error 42.00\n",
      "Epoch    51, train loss 1.804160, train error 33.43,  val loss 1.890817, percent error 43.40\n",
      "Epoch    52, train loss 1.807481, train error 33.53,  val loss 1.885116, percent error 42.40\n",
      "Epoch    53, train loss 1.805703, train error 33.43,  val loss 1.887861, percent error 42.40\n",
      "Epoch    54, train loss 1.800904, train error 32.75,  val loss 1.888301, percent error 43.00\n",
      "Epoch    55, train loss 1.802328, train error 32.85,  val loss 1.885306, percent error 41.90\n",
      "Epoch    56, train loss 1.797001, train error 32.12,  val loss 1.880549, percent error 41.80\n",
      "Epoch    57, train loss 1.795372, train error 31.88,  val loss 1.881930, percent error 42.20\n",
      "Epoch    58, train loss 1.791557, train error 31.88,  val loss 1.879172, percent error 41.50\n",
      "Epoch    59, train loss 1.790532, train error 31.78,  val loss 1.877741, percent error 41.90\n",
      "Epoch    60, train loss 1.787775, train error 31.47,  val loss 1.878887, percent error 41.90\n",
      "Epoch    61, train loss 1.787048, train error 31.40,  val loss 1.877221, percent error 41.60\n",
      "Epoch    62, train loss 1.787533, train error 31.53,  val loss 1.877282, percent error 42.00\n",
      "Epoch    63, train loss 1.784937, train error 30.93,  val loss 1.875957, percent error 41.20\n",
      "Epoch    64, train loss 1.786025, train error 31.32,  val loss 1.876838, percent error 41.30\n",
      "Epoch    65, train loss 1.783928, train error 31.07,  val loss 1.875778, percent error 41.50\n",
      "Epoch    66, train loss 1.785262, train error 31.15,  val loss 1.876261, percent error 41.20\n",
      "Epoch    67, train loss 1.783432, train error 31.00,  val loss 1.875497, percent error 41.70\n",
      "Epoch    68, train loss 1.781937, train error 30.93,  val loss 1.875563, percent error 41.20\n",
      "Epoch    69, train loss 1.781495, train error 30.82,  val loss 1.874094, percent error 41.40\n",
      "Epoch    70, train loss 1.781366, train error 30.80,  val loss 1.871819, percent error 41.30\n",
      "Epoch    71, train loss 1.779004, train error 30.75,  val loss 1.872319, percent error 41.60\n",
      "Epoch    72, train loss 1.779053, train error 30.62,  val loss 1.872681, percent error 40.80\n",
      "Epoch    73, train loss 1.779311, train error 30.53,  val loss 1.869919, percent error 41.10\n",
      "Epoch    74, train loss 1.777341, train error 30.20,  val loss 1.870329, percent error 41.20\n",
      "Epoch    75, train loss 1.776452, train error 30.30,  val loss 1.870409, percent error 40.60\n",
      "Epoch    76, train loss 1.775438, train error 29.97,  val loss 1.868215, percent error 40.50\n",
      "Epoch    77, train loss 1.775764, train error 30.03,  val loss 1.870856, percent error 41.10\n",
      "Epoch    78, train loss 1.774374, train error 29.90,  val loss 1.867559, percent error 40.60\n",
      "Epoch    79, train loss 1.779201, train error 30.35,  val loss 1.872466, percent error 40.80\n",
      "Epoch    80, train loss 1.773634, train error 29.75,  val loss 1.867835, percent error 40.10\n",
      "Epoch    81, train loss 1.772043, train error 29.62,  val loss 1.867374, percent error 40.40\n",
      "Epoch    82, train loss 1.772550, train error 29.72,  val loss 1.868663, percent error 40.40\n",
      "Epoch    83, train loss 1.772130, train error 29.78,  val loss 1.868092, percent error 40.00\n",
      "Epoch    84, train loss 1.770911, train error 29.65,  val loss 1.867243, percent error 40.10\n",
      "Epoch    85, train loss 1.771040, train error 29.57,  val loss 1.867948, percent error 40.20\n",
      "Epoch    86, train loss 1.771482, train error 29.55,  val loss 1.866119, percent error 39.90\n",
      "Epoch    87, train loss 1.770110, train error 29.60,  val loss 1.866786, percent error 39.90\n",
      "Epoch    88, train loss 1.770012, train error 29.47,  val loss 1.866000, percent error 40.40\n",
      "Epoch    89, train loss 1.769518, train error 29.47,  val loss 1.865448, percent error 40.10\n"
     ]
    },
    {
     "name": "stdout",
     "output_type": "stream",
     "text": [
      "Epoch    90, train loss 1.771625, train error 29.57,  val loss 1.865097, percent error 40.10\n",
      "Epoch    91, train loss 1.769282, train error 29.38,  val loss 1.865521, percent error 40.30\n",
      "Epoch    92, train loss 1.769205, train error 29.30,  val loss 1.864748, percent error 39.60\n",
      "Epoch    93, train loss 1.768425, train error 29.40,  val loss 1.865727, percent error 39.90\n",
      "Epoch    94, train loss 1.768620, train error 29.22,  val loss 1.864871, percent error 40.00\n",
      "Epoch    95, train loss 1.769191, train error 29.32,  val loss 1.865244, percent error 40.40\n",
      "Epoch    96, train loss 1.767705, train error 29.25,  val loss 1.865598, percent error 39.60\n",
      "Epoch    97, train loss 1.767187, train error 29.22,  val loss 1.865364, percent error 39.70\n",
      "Epoch    98, train loss 1.766482, train error 29.22,  val loss 1.864363, percent error 39.80\n",
      "Epoch    99, train loss 1.767219, train error 29.10,  val loss 1.865205, percent error 40.00\n"
     ]
    },
    {
     "data": {
      "image/png": "[encoded data removed]",
      "text/plain": [
       "<Figure size 640x480 with 1 Axes>"
      ]
     },
     "metadata": {},
     "output_type": "display_data"
    }
   ],
   "source": [
    "# choose cross entropy loss function (equation 5.24 in the loss notes)\n",
    "loss_function = nn.CrossEntropyLoss()\n",
    "# construct SGD optimizer and initialize learning rate and momentum\n",
    "optimizer = torch.optim.SGD(model.parameters(), lr = 0.05, momentum=0.9)\n",
    "# object that decreases learning rate by half every 20 epochs\n",
    "scheduler = StepLR(optimizer, step_size=20, gamma=0.5)\n",
    "# create 100 dummy data points and store in data loader class\n",
    "x_train = torch.tensor(train_data_x.transpose().astype('float32'))\n",
    "y_train = torch.tensor(train_data_y.astype('long')).long()\n",
    "x_val= torch.tensor(val_data_x.transpose().astype('float32'))\n",
    "y_val = torch.tensor(val_data_y.astype('long')).long()\n",
    "\n",
    "# load the data into a class that creates the batches\n",
    "data_loader = DataLoader(TensorDataset(x_train,y_train), batch_size=100, shuffle=True, worker_init_fn=np.random.seed(1))\n",
    "\n",
    "# Initialize model weights\n",
    "model.apply(weights_init)\n",
    "\n",
    "# loop over the dataset n_epoch times\n",
    "n_epoch = 100\n",
    "# store the loss and the % correct at each epoch\n",
    "losses_train = np.zeros((n_epoch))\n",
    "errors_train = np.zeros((n_epoch))\n",
    "losses_val = np.zeros((n_epoch))\n",
    "errors_val = np.zeros((n_epoch))\n",
    "\n",
    "for epoch in range(n_epoch):\n",
    "  # loop over batches\n",
    "  for i, data in enumerate(data_loader):\n",
    "    # retrieve inputs and labels for this batch\n",
    "    x_batch, y_batch = data\n",
    "    # zero the parameter gradients\n",
    "    optimizer.zero_grad()\n",
    "    # forward pass -- calculate model output\n",
    "    pred = model(x_batch[:,None,:])\n",
    "    # compute the loss\n",
    "    loss = loss_function(pred, y_batch)\n",
    "    # backward pass\n",
    "    loss.backward()\n",
    "    # SGD update\n",
    "    optimizer.step()\n",
    "\n",
    "  # Run whole dataset to get statistics -- normally wouldn't do this\n",
    "  pred_train = model(x_train[:,None,:])\n",
    "  pred_val = model(x_val[:,None,:])\n",
    "  _, predicted_train_class = torch.max(pred_train.data, 1)\n",
    "  _, predicted_val_class = torch.max(pred_val.data, 1)\n",
    "  errors_train[epoch] = 100 - 100 * (predicted_train_class == y_train).float().sum() / len(y_train)\n",
    "  errors_val[epoch]= 100 - 100 * (predicted_val_class == y_val).float().sum() / len(y_val)\n",
    "  losses_train[epoch] = loss_function(pred_train, y_train).item()\n",
    "  losses_val[epoch]= loss_function(pred_val, y_val).item()\n",
    "  print(f'Epoch {epoch:5d}, train loss {losses_train[epoch]:.6f}, train error {errors_train[epoch]:3.2f},  val loss {losses_val[epoch]:.6f}, percent error {errors_val[epoch]:3.2f}')\n",
    "\n",
    "  # tell scheduler to consider updating learning rate\n",
    "  scheduler.step()\n",
    "\n",
    "# Plot the results\n",
    "fig, ax = plt.subplots()\n",
    "ax.plot(errors_train,'r-',label='train')\n",
    "ax.plot(errors_val,'b-',label='validation')\n",
    "ax.set_ylim(0,100); ax.set_xlim(0,n_epoch)\n",
    "ax.set_xlabel('Epoch'); ax.set_ylabel('Error')\n",
    "ax.set_title('Part I: Validation Result %3.2f'%(errors_val[-1]))\n",
    "ax.legend()\n",
    "plt.show()"
   ]
  }
 ],
 "metadata": {
  "kernelspec": {
   "display_name": "Python 3 (ipykernel)",
   "language": "python",
   "name": "python3"
  },
  "language_info": {
   "codemirror_mode": {
    "name": "ipython",
    "version": 3
   },
   "file_extension": ".py",
   "mimetype": "text/x-python",
   "name": "python",
   "nbconvert_exporter": "python",
   "pygments_lexer": "ipython3",
   "version": "3.10.12"
  }
 },
 "nbformat": 4,
 "nbformat_minor": 5
}
