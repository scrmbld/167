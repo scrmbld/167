{
    "cells": [
        {
            "cell_type": "markdown",
            "id": "0db4482f",
            "metadata": {},
            "source": "<a href=\"https://colab.research.google.com/github/udlbook/udlbook/blob/main/Notebooks/Chap12/12_1_Self_Attention.ipynb\" target=\"_parent\"><img src=\"https://colab.research.google.com/assets/colab-badge.svg\" alt=\"Open In Colab\"/></a>"
        },
        {
            "cell_type": "markdown",
            "id": "0d156437",
            "metadata": {},
            "source": "# **Notebook 12.1: Self Attention**\n\nThis notebook builds a self-attention mechanism from scratch, as discussed in section 12.2 of the book.\n\nWork through the cells below, running each cell in turn. In various places you will see the words \"TO DO\". Follow the instructions at these places and make predictions about what is going to happen or write code to complete the functions.\n\nContact me at udlbookmail@gmail.com if you find any mistakes or have any suggestions."
        },
        {
            "cell_type": "code",
            "execution_count": 1,
            "id": "476d9b7f",
            "metadata": {
                "trusted": true
            },
            "outputs": [],
            "source": "import numpy as np\nimport matplotlib.pyplot as plt"
        },
        {
            "cell_type": "markdown",
            "id": "2b5ed301",
            "metadata": {},
            "source": "The self-attention mechanism maps $N$ inputs $\\mathbf{x}_{n}\\in\\mathbb{R}^{D}$ and returns $N$ outputs $\\mathbf{x}'_{n}\\in \\mathbb{R}^{D}$."
        },
        {
            "cell_type": "code",
            "execution_count": 2,
            "id": "db6dbde9",
            "metadata": {
                "trusted": true
            },
            "outputs": [
                {
                    "name": "stdout",
                    "output_type": "stream",
                    "text": "[array([[ 1.78862847],\n       [ 0.43650985],\n       [ 0.09649747],\n       [-1.8634927 ]]), array([[-0.2773882 ],\n       [-0.35475898],\n       [-0.08274148],\n       [-0.62700068]]), array([[-0.04381817],\n       [-0.47721803],\n       [-1.31386475],\n       [ 0.88462238]])]\n"
                }
            ],
            "source": "# Set seed so we get the same random numbers\nnp.random.seed(3)\n# Number of inputs\nN = 3\n# Number of dimensions of each input\nD = 4\n# Create an empty list\nall_x = []\n# Create elements x_n and append to list\nfor n in range(N):\n  all_x.append(np.random.normal(size=(D,1)))\n# Print out the list\nprint(all_x)"
        },
        {
            "cell_type": "markdown",
            "id": "08a61f25",
            "metadata": {},
            "source": "We'll also need the weights and biases for the keys, queries, and values (equations 12.2 and 12.4)"
        },
        {
            "cell_type": "code",
            "execution_count": 3,
            "id": "037bea95",
            "metadata": {
                "trusted": true
            },
            "outputs": [],
            "source": "# Set seed so we get the same random numbers\nnp.random.seed(0)\n\n# Choose random values for the parameters\nomega_q = np.random.normal(size=(D,D))\nomega_k = np.random.normal(size=(D,D))\nomega_v = np.random.normal(size=(D,D))\nbeta_q = np.random.normal(size=(D,1))\nbeta_k = np.random.normal(size=(D,1))\nbeta_v = np.random.normal(size=(D,1))"
        },
        {
            "cell_type": "markdown",
            "id": "1cc045b3",
            "metadata": {},
            "source": "Now let's compute the queries, keys, and values for each input"
        },
        {
            "cell_type": "code",
            "execution_count": 4,
            "id": "74ddfc55",
            "metadata": {
                "trusted": true
            },
            "outputs": [],
            "source": "# Make three lists to store queries, keys, and values\nall_queries = []\nall_keys = []\nall_values = []\n# For every input\nfor x in all_x:\n  # TODO -- compute the keys, queries and values.\n  # Replace these three lines\n  query = np.matmul(omega_q, x) + beta_q\n  key = np.matmul(omega_k, x) + beta_q\n  value = np.matmul(omega_v, x) + beta_v\n\n  all_queries.append(query)\n  all_keys.append(key)\n  all_values.append(value)"
        },
        {
            "cell_type": "code",
            "execution_count": 5,
            "id": "90392fd5",
            "metadata": {
                "trusted": true
            },
            "outputs": [
                {
                    "name": "stdout",
                    "output_type": "stream",
                    "text": "3\n"
                }
            ],
            "source": "print(len(all_x))"
        },
        {
            "cell_type": "markdown",
            "id": "3c1bb5f9",
            "metadata": {},
            "source": "We'll need a softmax function (equation 12.5) -- here, it will take a list of arbitrary numbers and return a list where the elements are non-negative and sum to one"
        },
        {
            "cell_type": "code",
            "execution_count": 6,
            "id": "9008c9ad",
            "metadata": {
                "trusted": true
            },
            "outputs": [],
            "source": "def softmax(items_in):\n\n  # TODO Compute the elements of items_out\n  # Replace this line\n  total = np.exp(items_in).sum()\n  items_out = np.exp(items_in) / total\n\n  return items_out ;"
        },
        {
            "cell_type": "code",
            "execution_count": 7,
            "id": "b843ccbf",
            "metadata": {
                "trusted": true
            },
            "outputs": [
                {
                    "data": {
                        "text/plain": "array([0.0320586 , 0.08714432, 0.23688282, 0.64391426])"
                    },
                    "execution_count": 7,
                    "metadata": {},
                    "output_type": "execute_result"
                }
            ],
            "source": "m1 = np.array([1,2,3,4])\nsoftmax(m1)"
        },
        {
            "cell_type": "markdown",
            "id": "66f70670",
            "metadata": {},
            "source": "Now compute the self attention values:"
        },
        {
            "cell_type": "code",
            "execution_count": 8,
            "id": "d4550868",
            "metadata": {
                "trusted": true
            },
            "outputs": [
                {
                    "name": "stdout",
                    "output_type": "stream",
                    "text": "Attentions for output  0\n1.0\nAttentions for output  1\n0.9999999999999999\nAttentions for output  2\n1.0\n"
                }
            ],
            "source": "# Create emptymlist for output\nall_x_prime = []\n\n# For each output\nfor n in range(N):\n  # Create list for dot products of query N with all keys\n  all_km_qn = []\n  # Compute the dot products\n  for key in all_keys:\n    # TODO -- compute the appropriate dot product\n    # Replace this line\n    dot_product = np.dot(key.T, all_queries[n]).flatten()\n\n    # Store dot product\n    all_km_qn.append(dot_product)\n\n  # Compute dot product\n  attention = softmax(all_km_qn).sum()\n  # Print result (should be positive sum to one)\n  print(\"Attentions for output \", n)\n  print(attention)\n\n  # TODO: Compute a weighted sum of all of the values according to the attention\n  # (equation 12.3)\n  # Replace this line\n\n  x_prime = attention*all_values[n]\n  all_x_prime.append(x_prime)"
        },
        {
            "cell_type": "code",
            "execution_count": 9,
            "id": "7a2654cb",
            "metadata": {
                "trusted": true
            },
            "outputs": [
                {
                    "name": "stdout",
                    "output_type": "stream",
                    "text": "x_prime_0_calculated: [[ 0.94744244 -0.24348429 -0.91310441 -0.44522983]]\nx_prime_0_true: [[ 0.94744244 -0.24348429 -0.91310441 -0.44522983]]\nx_prime_1_calculated: [[ 1.64201168 -0.08470004  4.02764044  2.18690791]]\nx_prime_1_true: [[ 1.64201168 -0.08470004  4.02764044  2.18690791]]\nx_prime_2_calculated: [[ 1.61949281 -0.06641533  3.96863308  2.15858316]]\nx_prime_2_true: [[ 1.61949281 -0.06641533  3.96863308  2.15858316]]\n"
                }
            ],
            "source": "all_x_prime = []\n\nfor n in range(N):\n  all_dots = []\n  for key in all_keys:\n    dot_product = np.dot(key.T, all_queries[n])\n\n    all_dots.append(dot_product)\n\n  alphas = softmax(all_dots)\n  # sum = np.zeros_like(all_values[0])\n  # for m in range(N):\n  #   sum += alphas[m]*all_values[m]\n\n  all_x_prime.append(sum)\n\n# Print out true values to check you have it correct\nprint(\"x_prime_0_calculated:\", all_x_prime[0].transpose())\nprint(\"x_prime_0_true: [[ 0.94744244 -0.24348429 -0.91310441 -0.44522983]]\")\nprint(\"x_prime_1_calculated:\", all_x_prime[1].transpose())\nprint(\"x_prime_1_true: [[ 1.64201168 -0.08470004  4.02764044  2.18690791]]\")\nprint(\"x_prime_2_calculated:\", all_x_prime[2].transpose())\nprint(\"x_prime_2_true: [[ 1.61949281 -0.06641533  3.96863308  2.15858316]]\")"
        },
        {
            "cell_type": "markdown",
            "id": "0b4fa1b2",
            "metadata": {},
            "source": "Now let's compute the same thing, but using matrix calculations.  We'll store the $N$ inputs $\\mathbf{x}_{n}\\in\\mathbb{R}^{D}$ in the columns of a $D\\times N$ matrix, using equations 12.6 and 12.7/8.\n\nNote:  The book uses column vectors (for compatibility with the rest of the text), but in the wider literature it is more normal to store the inputs in the rows of a matrix;  in this case, the computation is the same, but all the matrices are transposed and the operations proceed in the reverse order."
        },
        {
            "cell_type": "code",
            "execution_count": 11,
            "id": "414b2a0c",
            "metadata": {
                "trusted": true
            },
            "outputs": [],
            "source": "# Define softmax operation that works independently on each column\ndef softmax_cols(data_in):\n  # Exponentiate all of the values\n  exp_values = np.exp(data_in) ;\n  # Sum over columns\n  denom = np.sum(exp_values, axis = 0);\n  # Replicate denominator to N rows\n  denom = np.matmul(np.ones((data_in.shape[0],1)), denom[np.newaxis,:])\n  # Compute softmax\n  softmax = exp_values / denom\n  # return the answer\n  return softmax"
        },
        {
            "cell_type": "code",
            "execution_count": 14,
            "id": "bfc76011",
            "metadata": {
                "trusted": true
            },
            "outputs": [],
            "source": "# Now let's compute self attention in matrix form\ndef self_attention(X,omega_v, omega_q, omega_k, beta_v, beta_q, beta_k):\n\n  # TODO -- Write this function\n  # 1. Compute queries, keys, and values\n  # queries\n  queries = X * omega_q + beta_q\n  keys = X * omega_k + beta_k\n  values = X * omega_v + beta_v\n  # 2. Compute dot products\n  dots = np.sum(keys*queries, axis=1)\n  # 3. Apply softmax to calculate attentions\n  attentions = softmax_cols(dots)\n  # 4. Weight values by attentions\n  # Replace this line\n  X_prime = values*attentions\n\n\n  return X_prime"
        },
        {
            "cell_type": "code",
            "execution_count": 15,
            "id": "4db9ec64",
            "metadata": {
                "trusted": true
            },
            "outputs": [
                {
                    "ename": "ValueError",
                    "evalue": "operands could not be broadcast together with shapes (4,3) (4,4) ",
                    "output_type": "error",
                    "traceback": [
                        "\u001b[0;31m---------------------------------------------------------------------------\u001b[0m",
                        "\u001b[0;31mValueError\u001b[0m                                Traceback (most recent call last)",
                        "Cell \u001b[0;32mIn[15], line 8\u001b[0m\n\u001b[1;32m      5\u001b[0m X[:,\u001b[38;5;241m2\u001b[39m] \u001b[38;5;241m=\u001b[39m np\u001b[38;5;241m.\u001b[39msqueeze(all_x[\u001b[38;5;241m2\u001b[39m])\n\u001b[1;32m      7\u001b[0m \u001b[38;5;66;03m# Run the self attention mechanism\u001b[39;00m\n\u001b[0;32m----> 8\u001b[0m X_prime \u001b[38;5;241m=\u001b[39m \u001b[43mself_attention\u001b[49m\u001b[43m(\u001b[49m\u001b[43mX\u001b[49m\u001b[43m,\u001b[49m\u001b[43momega_v\u001b[49m\u001b[43m,\u001b[49m\u001b[43m \u001b[49m\u001b[43momega_q\u001b[49m\u001b[43m,\u001b[49m\u001b[43m \u001b[49m\u001b[43momega_k\u001b[49m\u001b[43m,\u001b[49m\u001b[43m \u001b[49m\u001b[43mbeta_v\u001b[49m\u001b[43m,\u001b[49m\u001b[43m \u001b[49m\u001b[43mbeta_q\u001b[49m\u001b[43m,\u001b[49m\u001b[43m \u001b[49m\u001b[43mbeta_k\u001b[49m\u001b[43m)\u001b[49m\n\u001b[1;32m     10\u001b[0m \u001b[38;5;66;03m# Print out the results\u001b[39;00m\n\u001b[1;32m     11\u001b[0m \u001b[38;5;28mprint\u001b[39m(X_prime)\n",
                        "Cell \u001b[0;32mIn[14], line 7\u001b[0m, in \u001b[0;36mself_attention\u001b[0;34m(X, omega_v, omega_q, omega_k, beta_v, beta_q, beta_k)\u001b[0m\n\u001b[1;32m      2\u001b[0m \u001b[38;5;28;01mdef\u001b[39;00m \u001b[38;5;21mself_attention\u001b[39m(X,omega_v, omega_q, omega_k, beta_v, beta_q, beta_k):\n\u001b[1;32m      3\u001b[0m \n\u001b[1;32m      4\u001b[0m   \u001b[38;5;66;03m# TODO -- Write this function\u001b[39;00m\n\u001b[1;32m      5\u001b[0m   \u001b[38;5;66;03m# 1. Compute queries, keys, and values\u001b[39;00m\n\u001b[1;32m      6\u001b[0m   \u001b[38;5;66;03m# queries\u001b[39;00m\n\u001b[0;32m----> 7\u001b[0m   queries \u001b[38;5;241m=\u001b[39m \u001b[43mX\u001b[49m\u001b[43m \u001b[49m\u001b[38;5;241;43m*\u001b[39;49m\u001b[43m \u001b[49m\u001b[43momega_q\u001b[49m \u001b[38;5;241m+\u001b[39m beta_q\n\u001b[1;32m      8\u001b[0m   keys \u001b[38;5;241m=\u001b[39m X \u001b[38;5;241m*\u001b[39m omega_k \u001b[38;5;241m+\u001b[39m beta_k\n\u001b[1;32m      9\u001b[0m   values \u001b[38;5;241m=\u001b[39m X \u001b[38;5;241m*\u001b[39m omega_v \u001b[38;5;241m+\u001b[39m beta_v\n",
                        "\u001b[0;31mValueError\u001b[0m: operands could not be broadcast together with shapes (4,3) (4,4) "
                    ]
                }
            ],
            "source": "# Copy data into matrix\nX = np.zeros((D, N))\nX[:,0] = np.squeeze(all_x[0])\nX[:,1] = np.squeeze(all_x[1])\nX[:,2] = np.squeeze(all_x[2])\n\n# Run the self attention mechanism\nX_prime = self_attention(X,omega_v, omega_q, omega_k, beta_v, beta_q, beta_k)\n\n# Print out the results\nprint(X_prime)"
        },
        {
            "cell_type": "markdown",
            "id": "9b1b60c7",
            "metadata": {},
            "source": "If you did this correctly, the values should be the same as above.\n\nTODO:  \n\nPrint out the attention matrix\nYou will see that the values are quite extreme (one is very close to one and the others are very close to zero.  Now we'll fix this problem by using scaled dot-product attention."
        },
        {
            "cell_type": "code",
            "execution_count": null,
            "id": "6c0b0135",
            "metadata": {
                "trusted": true
            },
            "outputs": [],
            "source": "# Now let's compute self attention in matrix form\ndef scaled_dot_product_self_attention(X,omega_v, omega_q, omega_k, beta_v, beta_q, beta_k):\n\n  # TODO -- Write this function\n  # 1. Compute queries, keys, and values\n  # 2. Compute dot products\n  # 3. Scale the dot products as in equation 12.9\n  # 4. Apply softmax to calculate attentions\n  # 5. Weight values by attentions\n  # Replace this line\n  X_prime = np.zeros_like(X);\n\n  return X_prime"
        },
        {
            "cell_type": "code",
            "execution_count": null,
            "id": "3035c06d",
            "metadata": {
                "trusted": true
            },
            "outputs": [],
            "source": "# Run the self attention mechanism\nX_prime = scaled_dot_product_self_attention(X,omega_v, omega_q, omega_k, beta_v, beta_q, beta_k)\n\n# Print out the results\nprint(X_prime)"
        },
        {
            "cell_type": "markdown",
            "id": "a3a3fe73",
            "metadata": {},
            "source": "TODO -- Investigate whether the self-attention mechanism is covariant with respect to permutation.\nIf it is, when we permute the columns of the input matrix $\\mathbf{X}$, the columns of the output matrix $\\mathbf{X}'$ will also be permuted."
        }
    ],
    "metadata": {
        "kernelspec": {
            "display_name": "Python 3 (ipykernel)",
            "language": "python",
            "name": "python3"
        },
        "language_info": {
            "codemirror_mode": {
                "name": "ipython",
                "version": 3
            },
            "file_extension": ".py",
            "mimetype": "text/x-python",
            "name": "python",
            "nbconvert_exporter": "python",
            "pygments_lexer": "ipython3",
            "version": "3.10.12"
        }
    },
    "nbformat": 4,
    "nbformat_minor": 5
}