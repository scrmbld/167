{
    "cells": [
        {
            "cell_type": "markdown",
            "id": "7b630412",
            "metadata": {},
            "source": "<a href=\"https://colab.research.google.com/github/udlbook/udlbook/blob/main/Notebooks/Chap12/12_1_Self_Attention.ipynb\" target=\"_parent\"><img src=\"https://colab.research.google.com/assets/colab-badge.svg\" alt=\"Open In Colab\"/></a>"
        },
        {
            "cell_type": "markdown",
            "id": "93546263",
            "metadata": {},
            "source": "# **Notebook 12.1: Self Attention**\n\nThis notebook builds a self-attention mechanism from scratch, as discussed in section 12.2 of the book.\n\nWork through the cells below, running each cell in turn. In various places you will see the words \"TO DO\". Follow the instructions at these places and make predictions about what is going to happen or write code to complete the functions.\n\nContact me at udlbookmail@gmail.com if you find any mistakes or have any suggestions."
        },
        {
            "cell_type": "code",
            "execution_count": 1,
            "id": "ff918e75",
            "metadata": {
                "trusted": true
            },
            "outputs": [],
            "source": "import numpy as np\nimport matplotlib.pyplot as plt"
        },
        {
            "cell_type": "markdown",
            "id": "0f2263a7",
            "metadata": {},
            "source": "The self-attention mechanism maps $N$ inputs $\\mathbf{x}_{n}\\in\\mathbb{R}^{D}$ and returns $N$ outputs $\\mathbf{x}'_{n}\\in \\mathbb{R}^{D}$."
        },
        {
            "cell_type": "code",
            "execution_count": 2,
            "id": "caf6e6a4",
            "metadata": {
                "trusted": true
            },
            "outputs": [
                {
                    "name": "stdout",
                    "output_type": "stream",
                    "text": "[array([[ 1.78862847],\n       [ 0.43650985],\n       [ 0.09649747],\n       [-1.8634927 ]]), array([[-0.2773882 ],\n       [-0.35475898],\n       [-0.08274148],\n       [-0.62700068]]), array([[-0.04381817],\n       [-0.47721803],\n       [-1.31386475],\n       [ 0.88462238]])]\n"
                }
            ],
            "source": "# Set seed so we get the same random numbers\nnp.random.seed(3)\n# Number of inputs\nN = 3\n# Number of dimensions of each input\nD = 4\n# Create an empty list\nall_x = []\n# Create elements x_n and append to list\nfor n in range(N):\n  all_x.append(np.random.normal(size=(D,1)))\n# Print out the list\nprint(all_x)"
        },
        {
            "cell_type": "markdown",
            "id": "c12c112b",
            "metadata": {},
            "source": "We'll also need the weights and biases for the keys, queries, and values (equations 12.2 and 12.4)"
        },
        {
            "cell_type": "code",
            "execution_count": 3,
            "id": "dd3a0259",
            "metadata": {
                "trusted": true
            },
            "outputs": [],
            "source": "# Set seed so we get the same random numbers\nnp.random.seed(0)\n\n# Choose random values for the parameters\nomega_q = np.random.normal(size=(D,D))\nomega_k = np.random.normal(size=(D,D))\nomega_v = np.random.normal(size=(D,D))\nbeta_q = np.random.normal(size=(D,1))\nbeta_k = np.random.normal(size=(D,1))\nbeta_v = np.random.normal(size=(D,1))"
        },
        {
            "cell_type": "markdown",
            "id": "d7c860ac",
            "metadata": {},
            "source": "Now let's compute the queries, keys, and values for each input"
        },
        {
            "cell_type": "code",
            "execution_count": 46,
            "id": "3eb6d807",
            "metadata": {
                "trusted": true
            },
            "outputs": [],
            "source": "# Make three lists to store queries, keys, and values\nall_queries = []\nall_keys = []\nall_values = []\n# For every input\nfor x in all_x:\n  # TODO -- compute the keys, queries and values.\n  # Replace these three lines\n  query = np.matmul(omega_q, x) + beta_q\n  key = np.matmul(omega_k, x) + beta_k\n  value = np.matmul(omega_v, x) + beta_v\n\n  all_queries.append(query)\n  all_keys.append(key)\n  all_values.append(value)"
        },
        {
            "cell_type": "markdown",
            "id": "0b1153e8",
            "metadata": {},
            "source": "We'll need a softmax function (equation 12.5) -- here, it will take a list of arbitrary numbers and return a list where the elements are non-negative and sum to one"
        },
        {
            "cell_type": "code",
            "execution_count": 47,
            "id": "4e9f87aa",
            "metadata": {
                "trusted": true
            },
            "outputs": [],
            "source": "def softmax(items_in):\n\n  # TODO Compute the elements of items_out\n  # Replace this line\n  total = np.exp(items_in).sum()\n  items_out = np.exp(items_in) / total\n\n  return items_out ;"
        },
        {
            "cell_type": "code",
            "execution_count": 48,
            "id": "679bb94f",
            "metadata": {
                "trusted": true
            },
            "outputs": [
                {
                    "data": {
                        "text/plain": "array([0.0320586 , 0.08714432, 0.23688282, 0.64391426])"
                    },
                    "execution_count": 48,
                    "metadata": {},
                    "output_type": "execute_result"
                }
            ],
            "source": "m1 = np.array([1,2,3,4])\nsoftmax(m1)"
        },
        {
            "cell_type": "markdown",
            "id": "f628bf7b",
            "metadata": {},
            "source": "Now compute the self attention values:"
        },
        {
            "cell_type": "code",
            "execution_count": 50,
            "id": "7f5cc021",
            "metadata": {
                "trusted": true
            },
            "outputs": [
                {
                    "name": "stdout",
                    "output_type": "stream",
                    "text": "x_prime_0_calculated: [[ 0.94744244 -0.24348429 -0.91310441 -0.44522983]]\nx_prime_0_true: [[ 0.94744244 -0.24348429 -0.91310441 -0.44522983]]\nx_prime_1_calculated: [[ 1.64201168 -0.08470004  4.02764044  2.18690791]]\nx_prime_1_true: [[ 1.64201168 -0.08470004  4.02764044  2.18690791]]\nx_prime_2_calculated: [[ 1.61949281 -0.06641533  3.96863308  2.15858316]]\nx_prime_2_true: [[ 1.61949281 -0.06641533  3.96863308  2.15858316]]\n"
                }
            ],
            "source": "all_x_prime = []\n\nfor n in range(N):\n  all_dots = []\n  # compute dot products\n  for key in all_keys:\n    dot_product = np.dot(key.T, all_queries[n])\n    all_dots.append(dot_product)\n\n  # Softmax the dot products\n  alphas = softmax(all_dots)\n\n  # TODO: Compute a weighted sum of all of the values according to the attention\n  # (equation 12.3)\n  # Replace this line\n\n  # Do the weigted sum of all alphas\n  sum = np.zeros_like(all_values[0])\n  for m in range(N):\n    sum += alphas[m]*all_values[m]\n\n  all_x_prime.append(sum)\n\n# Print out true values to check you have it correct\nprint(\"x_prime_0_calculated:\", all_x_prime[0].transpose())\nprint(\"x_prime_0_true: [[ 0.94744244 -0.24348429 -0.91310441 -0.44522983]]\")\nprint(\"x_prime_1_calculated:\", all_x_prime[1].transpose())\nprint(\"x_prime_1_true: [[ 1.64201168 -0.08470004  4.02764044  2.18690791]]\")\nprint(\"x_prime_2_calculated:\", all_x_prime[2].transpose())\nprint(\"x_prime_2_true: [[ 1.61949281 -0.06641533  3.96863308  2.15858316]]\")"
        },
        {
            "cell_type": "markdown",
            "id": "af7becf9",
            "metadata": {},
            "source": "Now let's compute the same thing, but using matrix calculations.  We'll store the $N$ inputs $\\mathbf{x}_{n}\\in\\mathbb{R}^{D}$ in the columns of a $D\\times N$ matrix, using equations 12.6 and 12.7/8.\n\nNote:  The book uses column vectors (for compatibility with the rest of the text), but in the wider literature it is more normal to store the inputs in the rows of a matrix;  in this case, the computation is the same, but all the matrices are transposed and the operations proceed in the reverse order."
        },
        {
            "cell_type": "code",
            "execution_count": 10,
            "id": "bb4e6e1f",
            "metadata": {
                "trusted": true
            },
            "outputs": [],
            "source": "# Define softmax operation that works independently on each column\ndef softmax_cols(data_in):\n  # Exponentiate all of the values\n  exp_values = np.exp(data_in) ;\n  # Sum over columns\n  denom = np.sum(exp_values, axis = 0);\n  # Replicate denominator to N rows\n  denom = np.matmul(np.ones((data_in.shape[0],1)), denom[np.newaxis,:])\n  # Compute softmax\n  softmax = exp_values / denom\n  # return the answer\n  return softmax"
        },
        {
            "cell_type": "code",
            "execution_count": 31,
            "id": "34a6837f",
            "metadata": {
                "trusted": true
            },
            "outputs": [],
            "source": "# Now let's compute self attention in matrix form\ndef self_attention(X,omega_v, omega_q, omega_k, beta_v, beta_q, beta_k):\n\n  # TODO -- Write this function\n  # 1. Compute queries, keys, and values\n  queries = np.matmul(omega_q, X) + beta_q\n  keys = np.matmul(omega_k, X) + beta_k\n  values = np.matmul(omega_v, X) + beta_v\n  # 2. Compute dot products\n  dots = np.matmul(keys.T, queries)\n  # 3. Apply softmax to calculate attentions\n  attentions = softmax_cols(dots)\n  print(f'Attentions: {attentions}\\n')\n  # 4. Weight values by attentions\n  # Replace this line\n  X_prime = np.matmul(values, attentions)\n\n  return X_prime"
        },
        {
            "cell_type": "code",
            "execution_count": 32,
            "id": "f3be07ff",
            "metadata": {
                "trusted": true
            },
            "outputs": [
                {
                    "name": "stdout",
                    "output_type": "stream",
                    "text": "[[1.24326146e-13 2.79525306e-12 5.05707907e-03]\n [9.98281489e-01 5.85506360e-03 6.54776072e-03]\n [1.71851130e-03 9.94144936e-01 9.88395160e-01]]\n[[ 0.94744244  1.64201168  1.61949281]\n [-0.24348429 -0.08470004 -0.06641533]\n [-0.91310441  4.02764044  3.96863308]\n [-0.44522983  2.18690791  2.15858316]]\n"
                }
            ],
            "source": "# Copy data into matrix\nX = np.zeros((D, N))\nX[:,0] = np.squeeze(all_x[0])\nX[:,1] = np.squeeze(all_x[1])\nX[:,2] = np.squeeze(all_x[2])\n\n# Run the self attention mechanism\nX_prime = self_attention(X,omega_v, omega_q, omega_k, beta_v, beta_q, beta_k)\n\n# Print out the results\nprint(X_prime)"
        },
        {
            "cell_type": "markdown",
            "id": "8d27357b",
            "metadata": {},
            "source": "If you did this correctly, the values should be the same as above.\n\nTODO:  \n\nPrint out the attention matrix\nYou will see that the values are quite extreme (one is very close to one and the others are very close to zero.  Now we'll fix this problem by using scaled dot-product attention."
        },
        {
            "cell_type": "code",
            "execution_count": 37,
            "id": "2eb0fcf6",
            "metadata": {
                "trusted": true
            },
            "outputs": [],
            "source": "# Now let's compute self attention in matrix form\ndef scaled_dot_product_self_attention(X,omega_v, omega_q, omega_k, beta_v, beta_q, beta_k):\n\n  dim = omega_q.shape[0]\n  # TODO -- Write this function\n  # 1. Compute queries, keys, and values\n  queries = np.matmul(omega_q, X) + beta_q\n  keys = np.matmul(omega_k, X) + beta_k\n  values = np.matmul(omega_v, X) + beta_v\n  # 2. Compute dot products\n  dots = np.matmul(keys.T, queries)\n  # 3. Scale the dot products as in equation 12.9\n  scaled_dots = dots / np.sqrt(dim)\n  # 4. Apply softmax to calculate attentions\n  attentions = softmax_cols(scaled_dots)\n  print(f'Scaled Attentions: {attentions}\\n')\n  # 5. Weight values by attentions\n  # Replace this line\n  X_prime = np.matmul(values, attentions)\n\n  return X_prime"
        },
        {
            "cell_type": "code",
            "execution_count": 38,
            "id": "2e1a227a",
            "metadata": {
                "trusted": true
            },
            "outputs": [
                {
                    "name": "stdout",
                    "output_type": "stream",
                    "text": "[[3.38843552e-07 1.55730194e-06 6.20418746e-02]\n [9.60161968e-01 7.12734969e-02 7.05962187e-02]\n [3.98376935e-02 9.28724946e-01 8.67361907e-01]]\n[[ 0.97411966  1.59622051  1.32638014]\n [-0.23738409 -0.09516106  0.13062402]\n [-0.72333202  3.70194096  3.02371664]\n [-0.34413007  2.01339538  1.6902419 ]]\n"
                }
            ],
            "source": "# Run the self attention mechanism\nX_prime = scaled_dot_product_self_attention(X,omega_v, omega_q, omega_k, beta_v, beta_q, beta_k)\n\n# Print out the results\nprint(X_prime)"
        },
        {
            "cell_type": "markdown",
            "id": "0e962f68",
            "metadata": {},
            "source": "TODO -- Investigate whether the self-attention mechanism is covariant with respect to permutation.\nIf it is, when we permute the columns of the input matrix $\\mathbf{X}$, the columns of the output matrix $\\mathbf{X}'$ will also be permuted."
        },
        {
            "cell_type": "code",
            "execution_count": 45,
            "id": "4ab665ed",
            "metadata": {
                "trusted": true
            },
            "outputs": [
                {
                    "name": "stdout",
                    "output_type": "stream",
                    "text": "[[3.38843552e-07 1.55730194e-06 6.20418746e-02]\n [9.60161968e-01 7.12734969e-02 7.05962187e-02]\n [3.98376935e-02 9.28724946e-01 8.67361907e-01]]\n[[1.21930268e-04 1.23199802e-02 9.99978851e-01]\n [9.99841385e-01 4.74892227e-01 1.10319797e-05]\n [3.66851420e-05 5.12787793e-01 1.01165569e-05]]\nOriginal result: [[ 0.97411966  1.59622051  1.32638014]\n [-0.23738409 -0.09516106  0.13062402]\n [-0.72333202  3.70194096  3.02371664]\n [-0.34413007  2.01339538  1.6902419 ]]\nPermuted result: [[-1.26086322 -1.03932582 -4.73638683]\n [ 0.98240379  1.18119186  4.77826934]\n [-2.61861573 -0.47680921 -8.58930963]\n [-1.33690986 -0.31433168 -4.11249652]]\n"
                }
            ],
            "source": "# Try intial X values\noriginal_result = scaled_dot_product_self_attention(X, omega_v, omega_q, omega_k, beta_v, beta_q, beta_k)\n\n# Permute the X values\nX_prime = X + np.random.rand(*X.shape)\n\npermuted_result = scaled_dot_product_self_attention(X_prime, omega_v, omega_q, omega_k, beta_v, beta_q, beta_k)\n\nprint(f'Original result: {original_result}\\nPermuted result: {permuted_result}')"
        },
        {
            "cell_type": "markdown",
            "id": "583adb0c",
            "metadata": {},
            "source": "The by-hand version does not include biases. Additionally, the size of the query, key, and value weight matrices are different -- in the book, they are $D \\times N$, where $N$ is the number of input embeddings and $D$ is the length of those embeddings. In the by hand example, they are $3 \\times N$, and $D \\neq 3$. The result of this is that the $\\textbf{Q}$, $\\textbf{K}$, and $\\textbf{V}$ matrices have different dimensions in each example. In the book, the $\\textbf{Q}$, $\\textbf{K}$, and $\\textbf{V}$ matrices have the same dimensions as the inputs ($D \\times N$), while in the by hand example, they are $3 \\times N$. However, the dot product matrix does have the same dimensions as in the book, because the $N$ dimension is preserved. Otherwise, the process is largely the same."
        }
    ],
    "metadata": {
        "kernelspec": {
            "display_name": "Python 3 (ipykernel)",
            "language": "python",
            "name": "python3"
        },
        "language_info": {
            "codemirror_mode": {
                "name": "ipython",
                "version": 3
            },
            "file_extension": ".py",
            "mimetype": "text/x-python",
            "name": "python",
            "nbconvert_exporter": "python",
            "pygments_lexer": "ipython3",
            "version": "3.10.12"
        }
    },
    "nbformat": 4,
    "nbformat_minor": 5
}