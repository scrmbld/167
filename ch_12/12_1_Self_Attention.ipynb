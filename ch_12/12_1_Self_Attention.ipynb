{
 "cells": [
  {
   "cell_type": "markdown",
   "id": "7b630412",
   "metadata": {},
   "source": [
    "<a href=\"https://colab.research.google.com/github/udlbook/udlbook/blob/main/Notebooks/Chap12/12_1_Self_Attention.ipynb\" target=\"_parent\"><img src=\"https://colab.research.google.com/assets/colab-badge.svg\" alt=\"Open In Colab\"/></a>"
   ]
  },
  {
   "cell_type": "markdown",
   "id": "93546263",
   "metadata": {},
   "source": [
    "# **Notebook 12.1: Self Attention**\n",
    "\n",
    "This notebook builds a self-attention mechanism from scratch, as discussed in section 12.2 of the book.\n",
    "\n",
    "Work through the cells below, running each cell in turn. In various places you will see the words \"TO DO\". Follow the instructions at these places and make predictions about what is going to happen or write code to complete the functions.\n",
    "\n",
    "Contact me at udlbookmail@gmail.com if you find any mistakes or have any suggestions."
   ]
  },
  {
   "cell_type": "code",
   "execution_count": 1,
   "id": "ff918e75",
   "metadata": {},
   "outputs": [],
   "source": [
    "import numpy as np\n",
    "import matplotlib.pyplot as plt"
   ]
  },
  {
   "cell_type": "markdown",
   "id": "0f2263a7",
   "metadata": {},
   "source": [
    "The self-attention mechanism maps $N$ inputs $\\mathbf{x}_{n}\\in\\mathbb{R}^{D}$ and returns $N$ outputs $\\mathbf{x}'_{n}\\in \\mathbb{R}^{D}$."
   ]
  },
  {
   "cell_type": "code",
   "execution_count": 2,
   "id": "caf6e6a4",
   "metadata": {},
   "outputs": [
    {
     "name": "stdout",
     "output_type": "stream",
     "text": [
      "[array([[ 1.78862847],\n",
      "       [ 0.43650985],\n",
      "       [ 0.09649747],\n",
      "       [-1.8634927 ]]), array([[-0.2773882 ],\n",
      "       [-0.35475898],\n",
      "       [-0.08274148],\n",
      "       [-0.62700068]]), array([[-0.04381817],\n",
      "       [-0.47721803],\n",
      "       [-1.31386475],\n",
      "       [ 0.88462238]])]\n"
     ]
    }
   ],
   "source": [
    "# Set seed so we get the same random numbers\n",
    "np.random.seed(3)\n",
    "# Number of inputs\n",
    "N = 3\n",
    "# Number of dimensions of each input\n",
    "D = 4\n",
    "# Create an empty list\n",
    "all_x = []\n",
    "# Create elements x_n and append to list\n",
    "for n in range(N):\n",
    "  all_x.append(np.random.normal(size=(D,1)))\n",
    "# Print out the list\n",
    "print(all_x)"
   ]
  },
  {
   "cell_type": "markdown",
   "id": "c12c112b",
   "metadata": {},
   "source": [
    "We'll also need the weights and biases for the keys, queries, and values (equations 12.2 and 12.4)"
   ]
  },
  {
   "cell_type": "code",
   "execution_count": 3,
   "id": "dd3a0259",
   "metadata": {},
   "outputs": [],
   "source": [
    "# Set seed so we get the same random numbers\n",
    "np.random.seed(0)\n",
    "\n",
    "# Choose random values for the parameters\n",
    "omega_q = np.random.normal(size=(D,D))\n",
    "omega_k = np.random.normal(size=(D,D))\n",
    "omega_v = np.random.normal(size=(D,D))\n",
    "beta_q = np.random.normal(size=(D,1))\n",
    "beta_k = np.random.normal(size=(D,1))\n",
    "beta_v = np.random.normal(size=(D,1))"
   ]
  },
  {
   "cell_type": "markdown",
   "id": "d7c860ac",
   "metadata": {},
   "source": [
    "Now let's compute the queries, keys, and values for each input"
   ]
  },
  {
   "cell_type": "code",
   "execution_count": 4,
   "id": "3eb6d807",
   "metadata": {},
   "outputs": [],
   "source": [
    "# Make three lists to store queries, keys, and values\n",
    "all_queries = []\n",
    "all_keys = []\n",
    "all_values = []\n",
    "# For every input\n",
    "for x in all_x:\n",
    "  # TODO -- compute the keys, queries and values.\n",
    "  # Replace these three lines\n",
    "  query = np.matmul(omega_q, x) + beta_q\n",
    "  key = np.matmul(omega_k, x) + beta_k\n",
    "  value = np.matmul(omega_v, x) + beta_v\n",
    "\n",
    "  all_queries.append(query)\n",
    "  all_keys.append(key)\n",
    "  all_values.append(value)"
   ]
  },
  {
   "cell_type": "markdown",
   "id": "0b1153e8",
   "metadata": {},
   "source": [
    "We'll need a softmax function (equation 12.5) -- here, it will take a list of arbitrary numbers and return a list where the elements are non-negative and sum to one"
   ]
  },
  {
   "cell_type": "code",
   "execution_count": 5,
   "id": "4e9f87aa",
   "metadata": {},
   "outputs": [],
   "source": [
    "def softmax(items_in):\n",
    "\n",
    "  # TODO Compute the elements of items_out\n",
    "  # Replace this line\n",
    "  total = np.exp(items_in).sum()\n",
    "  items_out = np.exp(items_in) / total\n",
    "\n",
    "  return items_out ;"
   ]
  },
  {
   "cell_type": "code",
   "execution_count": 6,
   "id": "679bb94f",
   "metadata": {},
   "outputs": [
    {
     "data": {
      "text/plain": [
       "array([0.0320586 , 0.08714432, 0.23688282, 0.64391426])"
      ]
     },
     "execution_count": 6,
     "metadata": {},
     "output_type": "execute_result"
    }
   ],
   "source": [
    "m1 = np.array([1,2,3,4])\n",
    "softmax(m1)"
   ]
  },
  {
   "cell_type": "markdown",
   "id": "f628bf7b",
   "metadata": {},
   "source": [
    "Now compute the self attention values:"
   ]
  },
  {
   "cell_type": "code",
   "execution_count": 7,
   "id": "7f5cc021",
   "metadata": {},
   "outputs": [
    {
     "name": "stdout",
     "output_type": "stream",
     "text": [
      "x_prime_0_calculated: [[ 0.94744244 -0.24348429 -0.91310441 -0.44522983]]\n",
      "x_prime_0_true: [[ 0.94744244 -0.24348429 -0.91310441 -0.44522983]]\n",
      "x_prime_1_calculated: [[ 1.64201168 -0.08470004  4.02764044  2.18690791]]\n",
      "x_prime_1_true: [[ 1.64201168 -0.08470004  4.02764044  2.18690791]]\n",
      "x_prime_2_calculated: [[ 1.61949281 -0.06641533  3.96863308  2.15858316]]\n",
      "x_prime_2_true: [[ 1.61949281 -0.06641533  3.96863308  2.15858316]]\n"
     ]
    }
   ],
   "source": [
    "all_x_prime = []\n",
    "\n",
    "for n in range(N):\n",
    "  all_dots = []\n",
    "  # compute dot products\n",
    "  for key in all_keys:\n",
    "    dot_product = np.dot(key.T, all_queries[n])\n",
    "    all_dots.append(dot_product)\n",
    "\n",
    "  # Softmax the dot products\n",
    "  alphas = softmax(all_dots)\n",
    "\n",
    "  # TODO: Compute a weighted sum of all of the values according to the attention\n",
    "  # (equation 12.3)\n",
    "  # Replace this line\n",
    "\n",
    "  # Do the weigted sum of all alphas\n",
    "  sum = np.zeros_like(all_values[0])\n",
    "  for m in range(N):\n",
    "    sum += alphas[m]*all_values[m]\n",
    "\n",
    "  all_x_prime.append(sum)\n",
    "\n",
    "# Print out true values to check you have it correct\n",
    "print(\"x_prime_0_calculated:\", all_x_prime[0].transpose())\n",
    "print(\"x_prime_0_true: [[ 0.94744244 -0.24348429 -0.91310441 -0.44522983]]\")\n",
    "print(\"x_prime_1_calculated:\", all_x_prime[1].transpose())\n",
    "print(\"x_prime_1_true: [[ 1.64201168 -0.08470004  4.02764044  2.18690791]]\")\n",
    "print(\"x_prime_2_calculated:\", all_x_prime[2].transpose())\n",
    "print(\"x_prime_2_true: [[ 1.61949281 -0.06641533  3.96863308  2.15858316]]\")"
   ]
  },
  {
   "cell_type": "markdown",
   "id": "af7becf9",
   "metadata": {},
   "source": [
    "Now let's compute the same thing, but using matrix calculations.  We'll store the $N$ inputs $\\mathbf{x}_{n}\\in\\mathbb{R}^{D}$ in the columns of a $D\\times N$ matrix, using equations 12.6 and 12.7/8.\n",
    "\n",
    "Note:  The book uses column vectors (for compatibility with the rest of the text), but in the wider literature it is more normal to store the inputs in the rows of a matrix;  in this case, the computation is the same, but all the matrices are transposed and the operations proceed in the reverse order."
   ]
  },
  {
   "cell_type": "code",
   "execution_count": 8,
   "id": "bb4e6e1f",
   "metadata": {},
   "outputs": [],
   "source": [
    "# Define softmax operation that works independently on each column\n",
    "def softmax_cols(data_in):\n",
    "  # Exponentiate all of the values\n",
    "  exp_values = np.exp(data_in) ;\n",
    "  # Sum over columns\n",
    "  denom = np.sum(exp_values, axis = 0);\n",
    "  # Replicate denominator to N rows\n",
    "  denom = np.matmul(np.ones((data_in.shape[0],1)), denom[np.newaxis,:])\n",
    "  # Compute softmax\n",
    "  softmax = exp_values / denom\n",
    "  # return the answer\n",
    "  return softmax"
   ]
  },
  {
   "cell_type": "code",
   "execution_count": 9,
   "id": "34a6837f",
   "metadata": {},
   "outputs": [],
   "source": [
    "# Now let's compute self attention in matrix form\n",
    "def self_attention(X,omega_v, omega_q, omega_k, beta_v, beta_q, beta_k):\n",
    "\n",
    "  # TODO -- Write this function\n",
    "  # 1. Compute queries, keys, and values\n",
    "  queries = np.matmul(omega_q, X) + beta_q\n",
    "  keys = np.matmul(omega_k, X) + beta_k\n",
    "  values = np.matmul(omega_v, X) + beta_v\n",
    "  # 2. Compute dot products\n",
    "  dots = np.matmul(keys.T, queries)\n",
    "  # 3. Apply softmax to calculate attentions\n",
    "  attentions = softmax_cols(dots)\n",
    "  print(f'Attentions: {attentions}\\n')\n",
    "  # 4. Weight values by attentions\n",
    "  # Replace this line\n",
    "  X_prime = np.matmul(values, attentions)\n",
    "\n",
    "  return X_prime"
   ]
  },
  {
   "cell_type": "code",
   "execution_count": 10,
   "id": "f3be07ff",
   "metadata": {},
   "outputs": [
    {
     "name": "stdout",
     "output_type": "stream",
     "text": [
      "Attentions: [[1.24326146e-13 2.79525306e-12 5.05707907e-03]\n",
      " [9.98281489e-01 5.85506360e-03 6.54776072e-03]\n",
      " [1.71851130e-03 9.94144936e-01 9.88395160e-01]]\n",
      "\n",
      "[[ 0.94744244  1.64201168  1.61949281]\n",
      " [-0.24348429 -0.08470004 -0.06641533]\n",
      " [-0.91310441  4.02764044  3.96863308]\n",
      " [-0.44522983  2.18690791  2.15858316]]\n"
     ]
    }
   ],
   "source": [
    "# Copy data into matrix\n",
    "X = np.zeros((D, N))\n",
    "X[:,0] = np.squeeze(all_x[0])\n",
    "X[:,1] = np.squeeze(all_x[1])\n",
    "X[:,2] = np.squeeze(all_x[2])\n",
    "\n",
    "# Run the self attention mechanism\n",
    "X_prime = self_attention(X,omega_v, omega_q, omega_k, beta_v, beta_q, beta_k)\n",
    "\n",
    "# Print out the results\n",
    "print(X_prime)"
   ]
  },
  {
   "cell_type": "markdown",
   "id": "8d27357b",
   "metadata": {},
   "source": [
    "If you did this correctly, the values should be the same as above.\n",
    "\n",
    "TODO:  \n",
    "\n",
    "Print out the attention matrix\n",
    "You will see that the values are quite extreme (one is very close to one and the others are very close to zero.  Now we'll fix this problem by using scaled dot-product attention."
   ]
  },
  {
   "cell_type": "code",
   "execution_count": 11,
   "id": "2eb0fcf6",
   "metadata": {},
   "outputs": [],
   "source": [
    "# Now let's compute self attention in matrix form\n",
    "def scaled_dot_product_self_attention(X,omega_v, omega_q, omega_k, beta_v, beta_q, beta_k):\n",
    "\n",
    "  dim = omega_q.shape[0]\n",
    "  # TODO -- Write this function\n",
    "  # 1. Compute queries, keys, and values\n",
    "  queries = np.matmul(omega_q, X) + beta_q\n",
    "  keys = np.matmul(omega_k, X) + beta_k\n",
    "  values = np.matmul(omega_v, X) + beta_v\n",
    "  # 2. Compute dot products\n",
    "  dots = np.matmul(keys.T, queries)\n",
    "  # 3. Scale the dot products as in equation 12.9\n",
    "  scaled_dots = dots / np.sqrt(dim)\n",
    "  # 4. Apply softmax to calculate attentions\n",
    "  attentions = softmax_cols(scaled_dots)\n",
    "  print(f'Scaled Attentions: {attentions}\\n')\n",
    "  # 5. Weight values by attentions\n",
    "  # Replace this line\n",
    "  X_prime = np.matmul(values, attentions)\n",
    "\n",
    "  return X_prime"
   ]
  },
  {
   "cell_type": "code",
   "execution_count": 12,
   "id": "2e1a227a",
   "metadata": {},
   "outputs": [
    {
     "name": "stdout",
     "output_type": "stream",
     "text": [
      "Scaled Attentions: [[3.38843552e-07 1.55730194e-06 6.20418746e-02]\n",
      " [9.60161968e-01 7.12734969e-02 7.05962187e-02]\n",
      " [3.98376935e-02 9.28724946e-01 8.67361907e-01]]\n",
      "\n",
      "[[ 0.97411966  1.59622051  1.32638014]\n",
      " [-0.23738409 -0.09516106  0.13062402]\n",
      " [-0.72333202  3.70194096  3.02371664]\n",
      " [-0.34413007  2.01339538  1.6902419 ]]\n"
     ]
    }
   ],
   "source": [
    "# Run the self attention mechanism\n",
    "X_prime = scaled_dot_product_self_attention(X,omega_v, omega_q, omega_k, beta_v, beta_q, beta_k)\n",
    "\n",
    "# Print out the results\n",
    "print(X_prime)"
   ]
  },
  {
   "cell_type": "markdown",
   "id": "0e962f68",
   "metadata": {},
   "source": [
    "TODO -- Investigate whether the self-attention mechanism is covariant with respect to permutation.\n",
    "If it is, when we permute the columns of the input matrix $\\mathbf{X}$, the columns of the output matrix $\\mathbf{X}'$ will also be permuted."
   ]
  },
  {
   "cell_type": "code",
   "execution_count": 13,
   "id": "4ab665ed",
   "metadata": {},
   "outputs": [
    {
     "name": "stdout",
     "output_type": "stream",
     "text": [
      "Scaled Attentions: [[3.38843552e-07 1.55730194e-06 6.20418746e-02]\n",
      " [9.60161968e-01 7.12734969e-02 7.05962187e-02]\n",
      " [3.98376935e-02 9.28724946e-01 8.67361907e-01]]\n",
      "\n",
      "Scaled Attentions: [[2.90849917e-05 4.30052069e-04 9.99983119e-01]\n",
      " [9.53357284e-01 1.48040420e-01 5.91151315e-06]\n",
      " [4.66136307e-02 8.51529528e-01 1.09695039e-05]]\n",
      "\n",
      "Original result: [[ 0.97411966  1.59622051  1.32638014]\n",
      " [-0.23738409 -0.09516106  0.13062402]\n",
      " [-0.72333202  3.70194096  3.02371664]\n",
      " [-0.34413007  2.01339538  1.6902419 ]]\n",
      "Permuted result: [[ 0.67610841  0.06565104 -3.97681552]\n",
      " [-0.25286668  0.51675649  4.16833507]\n",
      " [-0.27440706  3.04390647 -8.6116672 ]\n",
      " [-0.31937562  1.47181871 -4.00440192]]\n"
     ]
    }
   ],
   "source": [
    "# Try intial X values\n",
    "original_result = scaled_dot_product_self_attention(X, omega_v, omega_q, omega_k, beta_v, beta_q, beta_k)\n",
    "\n",
    "# Permute the X values\n",
    "X_prime = X + np.random.rand(*X.shape)\n",
    "\n",
    "permuted_result = scaled_dot_product_self_attention(X_prime, omega_v, omega_q, omega_k, beta_v, beta_q, beta_k)\n",
    "\n",
    "print(f'Original result: {original_result}\\nPermuted result: {permuted_result}')"
   ]
  },
  {
   "cell_type": "markdown",
   "id": "583adb0c",
   "metadata": {},
   "source": [
    "The by-hand version does not include biases. Additionally, the size of the query, key, and value weight matrices are different -- in the book, they are $D \\times N$, where $N$ is the number of input embeddings and $D$ is the length of those embeddings. In the by hand example, they are $3 \\times N$, and $D \\neq 3$. The result of this is that the $\\textbf{Q}$, $\\textbf{K}$, and $\\textbf{V}$ matrices have different dimensions in each example. In the book, the $\\textbf{Q}$, $\\textbf{K}$, and $\\textbf{V}$ matrices have the same dimensions as the inputs ($D \\times N$), while in the by hand example, they are $3 \\times N$. However, the dot product matrix does have the same dimensions as in the book, because the $N$ dimension is preserved. Otherwise, the process is largely the same."
   ]
  }
 ],
 "metadata": {
  "kernelspec": {
   "display_name": "Python 3 (ipykernel)",
   "language": "python",
   "name": "python3"
  },
  "language_info": {
   "codemirror_mode": {
    "name": "ipython",
    "version": 3
   },
   "file_extension": ".py",
   "mimetype": "text/x-python",
   "name": "python",
   "nbconvert_exporter": "python",
   "pygments_lexer": "ipython3",
   "version": "3.10.12"
  }
 },
 "nbformat": 4,
 "nbformat_minor": 5
}
