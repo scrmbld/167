{
    "cells": [
        {
            "cell_type": "markdown",
            "id": "f843a2a2",
            "metadata": {},
            "source": "<a href=\"https://colab.research.google.com/github/udlbook/udlbook/blob/main/Notebooks/Chap07/7_1_Backpropagation_in_Toy_Model.ipynb\" target=\"_parent\"><img src=\"https://colab.research.google.com/assets/colab-badge.svg\" alt=\"Open In Colab\"/></a>"
        },
        {
            "cell_type": "markdown",
            "id": "16eb1b17",
            "metadata": {},
            "source": "# **Notebook 7.1: Backpropagation in Toy Model**\n\nThis notebook computes the derivatives of the toy function discussed in section 7.3 of the book.\n\nWork through the cells below, running each cell in turn. In various places you will see the words \"TO DO\". Follow the instructions at these places and make predictions about what is going to happen or write code to complete the functions.\n\nContact me at udlbookmail@gmail.com if you find any mistakes or have any suggestions."
        },
        {
            "cell_type": "markdown",
            "id": "caad79be",
            "metadata": {},
            "source": "We're going to investigate how to take the derivatives of functions where one operation is composed with another, which is composed with a third and so on.  For example, consider the model:\n\n\\begin{equation}\n     \\text{f}[x,\\boldsymbol\\phi] = \\beta_3+\\omega_3\\cdot\\cos\\Bigl[\\beta_2+\\omega_2\\cdot\\exp\\bigl[\\beta_1+\\omega_1\\cdot\\sin[\\beta_0+\\omega_0x]\\bigr]\\Bigr],\n\\end{equation}\n\nwith parameters $\\boldsymbol\\phi=\\{\\beta_0,\\omega_0,\\beta_1,\\omega_1,\\beta_2,\\omega_2,\\beta_3,\\omega_3\\}$.<br>\n\nThis is a composition of the functions $\\cos[\\bullet],\\exp[\\bullet],\\sin[\\bullet]$.   I chose these just because you probably already know the derivatives of these functions:\n\n\\begin{align}\n \\frac{\\partial \\cos[z]}{\\partial z} = -\\sin[z] \\quad\\quad \\frac{\\partial \\exp[z]}{\\partial z} = \\exp[z] \\quad\\quad \\frac{\\partial \\sin[z]}{\\partial z} = \\cos[z].\n\\end{align}\n\nSuppose that we have a least squares loss function:\n\n\\begin{equation*}\n\\ell_i = (\\text{f}[x_i,\\boldsymbol\\phi]-y_i)^2,\n\\end{equation*}\n\nAssume that we know the current values of $\\beta_{0},\\beta_{1},\\beta_{2},\\beta_{3},\\omega_{0},\\omega_{1},\\omega_{2},\\omega_{3}$, $x_i$ and $y_i$. We could obviously calculate $\\ell_i$.   But we also want to know how $\\ell_i$ changes when we make a small change to $\\beta_{0},\\beta_{1},\\beta_{2},\\beta_{3},\\omega_{0},\\omega_{1},\\omega_{2}$, or $\\omega_{3}$.  In other words, we want to compute the eight derivatives:\n\n\\begin{align}\n\\frac{\\partial \\ell_i}{\\partial \\beta_{0}}, \\quad \\frac{\\partial \\ell_i}{\\partial \\beta_{1}}, \\quad \\frac{\\partial \\ell_i}{\\partial \\beta_{2}}, \\quad \\frac{\\partial \\ell_i }{\\partial \\beta_{3}},  \\quad \\frac{\\partial \\ell_i}{\\partial \\omega_{0}}, \\quad \\frac{\\partial \\ell_i}{\\partial \\omega_{1}}, \\quad \\frac{\\partial \\ell_i}{\\partial \\omega_{2}},  \\quad\\text{and} \\quad \\frac{\\partial \\ell_i}{\\partial \\omega_{3}}.\n\\end{align}"
        },
        {
            "cell_type": "code",
            "execution_count": 1,
            "id": "49fc8a0c",
            "metadata": {
                "trusted": true
            },
            "outputs": [],
            "source": "# import library\nimport numpy as np"
        },
        {
            "cell_type": "markdown",
            "id": "7fae53a9",
            "metadata": {},
            "source": "Let's first define the original function for $y$ and the loss term:"
        },
        {
            "cell_type": "code",
            "execution_count": 2,
            "id": "775264c9",
            "metadata": {
                "trusted": true
            },
            "outputs": [],
            "source": "def fn(x, beta0, beta1, beta2, beta3, omega0, omega1, omega2, omega3):\n  return beta3+omega3 * np.cos(beta2 + omega2 * np.exp(beta1 + omega1 * np.sin(beta0 + omega0 * x)))\n\ndef loss(x, y, beta0, beta1, beta2, beta3, omega0, omega1, omega2, omega3):\n  diff = fn(x, beta0, beta1, beta2, beta3, omega0, omega1, omega2, omega3) - y\n  return diff * diff"
        },
        {
            "cell_type": "markdown",
            "id": "9a20f79f",
            "metadata": {},
            "source": "Now we'll choose some values for the betas and the omegas and x and compute the output of the function:"
        },
        {
            "cell_type": "code",
            "execution_count": 3,
            "id": "9e0cccbe",
            "metadata": {
                "trusted": true
            },
            "outputs": [
                {
                    "name": "stdout",
                    "output_type": "stream",
                    "text": "l_i=0.139\n"
                }
            ],
            "source": "beta0 = 1.0; beta1 = 2.0; beta2 = -3.0; beta3 = 0.4\nomega0 = 0.1; omega1 = -0.4; omega2 = 2.0; omega3 = 3.0\nx = 2.3; y = 2.0\nl_i_func = loss(x,y,beta0,beta1,beta2,beta3,omega0,omega1,omega2,omega3)\nprint('l_i=%3.3f'%l_i_func)"
        },
        {
            "cell_type": "markdown",
            "id": "6696722f",
            "metadata": {},
            "source": "# Computing derivatives by hand\n\nWe could compute expressions for the derivatives by hand and write code to compute them directly but some have very complex expressions, even for this relatively simple original equation. For example:\n\n\\begin{align}\n\\frac{\\partial \\ell_i}{\\partial \\omega_{0}} &=& -2 \\left( \\beta_3+\\omega_3\\cdot\\cos\\Bigl[\\beta_2+\\omega_2\\cdot\\exp\\bigl[\\beta_1+\\omega_1\\cdot\\sin[\\beta_0+\\omega_0\\cdot x_i]\\bigr]\\Bigr]-y_i\\right)\\nonumber \\\\\n&&\\hspace{0.5cm}\\cdot \\omega_1\\omega_2\\omega_3\\cdot x_i\\cdot\\cos[\\beta_0+\\omega_0 \\cdot x_i]\\cdot\\exp\\Bigl[\\beta_1 + \\omega_1 \\cdot \\sin[\\beta_0+\\omega_0\\cdot x_i]\\Bigr]\\nonumber\\\\\n&& \\hspace{1cm}\\cdot \\sin\\biggl[\\beta_2+\\omega_2\\cdot \\exp\\Bigl[\\beta_1 + \\omega_1 \\cdot \\sin[\\beta_0+\\omega_0\\cdot x_i]\\Bigr]\\biggr].\n\\end{align}"
        },
        {
            "cell_type": "code",
            "execution_count": 4,
            "id": "b65525b1",
            "metadata": {
                "trusted": true
            },
            "outputs": [],
            "source": "dldbeta3_func = 2 * (beta3 +omega3 * np.cos(beta2 + omega2 * np.exp(beta1+omega1 * np.sin(beta0+omega0 * x)))-y)\ndldomega0_func = -2 *(beta3 +omega3 * np.cos(beta2 + omega2 * np.exp(beta1+omega1 * np.sin(beta0+omega0 * x)))-y) * \\\n              omega1 * omega2 * omega3 * x * np.cos(beta0 + omega0 * x) * np.exp(beta1 +omega1 * np.sin(beta0 + omega0 * x)) *\\\n              np.sin(beta2 + omega2 * np.exp(beta1+ omega1* np.sin(beta0+omega0 * x)))"
        },
        {
            "cell_type": "markdown",
            "id": "7e1a9313",
            "metadata": {},
            "source": "Let's make sure this is correct using finite differences:"
        },
        {
            "cell_type": "code",
            "execution_count": 5,
            "id": "69422b49",
            "metadata": {
                "trusted": true
            },
            "outputs": [
                {
                    "name": "stdout",
                    "output_type": "stream",
                    "text": "dydomega0: Function value = 5.246, Finite difference value = 5.246\n"
                }
            ],
            "source": "dldomega0_fd = (loss(x,y,beta0,beta1,beta2,beta3,omega0+0.00001,omega1,omega2,omega3)-loss(x,y,beta0,beta1,beta2,beta3,omega0,omega1,omega2,omega3))/0.00001\n\nprint('dydomega0: Function value = %3.3f, Finite difference value = %3.3f'%(dldomega0_func,dldomega0_fd))"
        },
        {
            "cell_type": "markdown",
            "id": "4c3d741f",
            "metadata": {},
            "source": "The code to calculate $\\partial l_i/ \\partial \\omega_0$ is a bit of a nightmare.  It's easy to make mistakes, and you can see that some parts of it are repeated (for example, the $\\sin[\\bullet]$ term), which suggests some kind of redundancy in the calculations.  The goal of this practical is to compute the derivatives in a much simpler way.  There will be three steps:"
        },
        {
            "cell_type": "markdown",
            "id": "709a6719",
            "metadata": {},
            "source": "**Step 1:** Write the original equations as a series of intermediate calculations.\n\n\\begin{align}\nf_{0} &=& \\beta_{0} + \\omega_{0} x_i\\nonumber\\\\\nh_{1} &=& \\sin[f_{0}]\\nonumber\\\\\nf_{1} &=& \\beta_{1} + \\omega_{1}h_{1}\\nonumber\\\\\nh_{2} &=& \\exp[f_{1}]\\nonumber\\\\\nf_{2} &=& \\beta_{2} + \\omega_{2} h_{2}\\nonumber\\\\\nh_{3} &=& \\cos[f_{2}]\\nonumber\\\\\nf_{3} &=& \\beta_{3} + \\omega_{3}h_{3}\\nonumber\\\\\nl_i &=& (f_3-y_i)^2\n\\end{align}\n\nand compute and store the values of all of these intermediate values.  We'll need them to compute the derivatives.<br>  This is called the **forward pass**."
        },
        {
            "cell_type": "code",
            "execution_count": 6,
            "id": "20a0bebb",
            "metadata": {
                "trusted": true
            },
            "outputs": [],
            "source": "# TODO compute all the f_k and h_k terms\n# Replace the code below\n\nf0 = beta0 + omega0*x\nh1 = np.sin(f0)\nf1 = beta1 + omega1*h1\nh2 = np.exp(f1)\nf2 = beta2 + omega2*h2\nh3 = np.cos(f2)\nf3 = beta3 + omega3*h3\nl_i = np.multiply((f3-y), (f3-y))"
        },
        {
            "cell_type": "code",
            "execution_count": 7,
            "id": "1e5f05e5",
            "metadata": {
                "trusted": true
            },
            "outputs": [
                {
                    "name": "stdout",
                    "output_type": "stream",
                    "text": "f0: true value = 1.230, your value = 1.230\nh1: true value = 0.942, your value = 0.942\nf1: true value = 1.623, your value = 1.623\nh2: true value = 5.068, your value = 5.068\nf2: true value = 7.137, your value = 7.137\nh3: true value = 0.657, your value = 0.657\nf3: true value = 2.372, your value = 2.372\nl_i original = 0.139, l_i from forward pass = 0.139\n"
                }
            ],
            "source": "# Let's check we got that right:\nprint(\"f0: true value = %3.3f, your value = %3.3f\"%(1.230, f0))\nprint(\"h1: true value = %3.3f, your value = %3.3f\"%(0.942, h1))\nprint(\"f1: true value = %3.3f, your value = %3.3f\"%(1.623, f1))\nprint(\"h2: true value = %3.3f, your value = %3.3f\"%(5.068, h2))\nprint(\"f2: true value = %3.3f, your value = %3.3f\"%(7.137, f2))\nprint(\"h3: true value = %3.3f, your value = %3.3f\"%(0.657, h3))\nprint(\"f3: true value = %3.3f, your value = %3.3f\"%(2.372, f3))\nprint(\"l_i original = %3.3f, l_i from forward pass = %3.3f\"%(l_i_func, l_i))"
        },
        {
            "cell_type": "markdown",
            "id": "141bbdfc",
            "metadata": {},
            "source": "**Step 2:** Compute the derivatives of $\\ell_i$ with respect to the intermediate quantities that we just calculated, but in reverse order:\n\n\\begin{align}\n\\quad \\frac{\\partial \\ell_i}{\\partial f_3}, \\quad \\frac{\\partial \\ell_i}{\\partial h_3}, \\quad \\frac{\\partial \\ell_i}{\\partial f_2}, \\quad\n\\frac{\\partial \\ell_i}{\\partial h_2}, \\quad \\frac{\\partial \\ell_i}{\\partial f_1}, \\quad \\frac{\\partial \\ell_i}{\\partial h_1},  \\quad\\text{and} \\quad \\frac{\\partial \\ell_i}{\\partial f_0}.\n\\end{align}\n\nThe first of these derivatives is straightforward:\n\n\\begin{equation}\n\\frac{\\partial \\ell_i}{\\partial f_{3}} = 2 (f_3-y).\n\\end{equation}\n\nThe second derivative can be calculated using the chain rule:\n\n\\begin{equation}\n\\frac{\\partial \\ell_i}{\\partial h_{3}} =\\frac{\\partial f_{3}}{\\partial h_{3}} \\frac{\\partial \\ell_i}{\\partial f_{3}} .\n\\end{equation}\n\nThe left-hand side asks how $\\ell_i$ changes when $h_{3}$ changes.  The right-hand side says we can decompose this into (i) how $\\ell_i$ changes when $f_{3}$ changes and how $f_{3}$ changes when $h_{3}$ changes.  So you get a chain of events happening:  $h_{3}$ changes $f_{3}$, which changes $\\ell_i$, and the derivatives represent the effects of this chain.  Notice that we computed the first of these derivatives already and is  $2 (f_3-y)$. We calculated $f_{3}$ in step 1.  The second term is the derivative of $\\beta_{3} + \\omega_{3}h_{3}$ with respect to $h_3$ which is simply $\\omega_3$.  \n\nWe can continue in this way, computing the derivatives of the output with respect to these intermediate quantities:\n\n\\begin{align}\n\\frac{\\partial \\ell_i}{\\partial f_{2}} &=& \\frac{\\partial h_{3}}{\\partial f_{2}}\\left(\n\\frac{\\partial f_{3}}{\\partial h_{3}}\\frac{\\partial \\ell_i}{\\partial f_{3}} \\right)\n\\nonumber \\\\\n\\frac{\\partial \\ell_i}{\\partial h_{2}} &=& \\frac{\\partial f_{2}}{\\partial h_{2}}\\left(\\frac{\\partial h_{3}}{\\partial f_{2}}\\frac{\\partial f_{3}}{\\partial h_{3}}\\frac{\\partial \\ell_i}{\\partial f_{3}}\\right)\\nonumber \\\\\n\\frac{\\partial \\ell_i}{\\partial f_{1}} &=& \\frac{\\partial h_{2}}{\\partial f_{1}}\\left( \\frac{\\partial f_{2}}{\\partial h_{2}}\\frac{\\partial h_{3}}{\\partial f_{2}}\\frac{\\partial f_{3}}{\\partial h_{3}}\\frac{\\partial \\ell_i}{\\partial f_{3}} \\right)\\nonumber \\\\\n\\frac{\\partial \\ell_i}{\\partial h_{1}} &=& \\frac{\\partial f_{1}}{\\partial h_{1}}\\left(\\frac{\\partial h_{2}}{\\partial f_{1}} \\frac{\\partial f_{2}}{\\partial h_{2}}\\frac{\\partial h_{3}}{\\partial f_{2}}\\frac{\\partial f_{3}}{\\partial h_{3}}\\frac{\\partial \\ell_i}{\\partial f_{3}} \\right)\\nonumber \\\\\n\\frac{\\partial \\ell_i}{\\partial f_{0}} &=& \\frac{\\partial h_{1}}{\\partial f_{0}}\\left(\\frac{\\partial f_{1}}{\\partial h_{1}}\\frac{\\partial h_{2}}{\\partial f_{1}} \\frac{\\partial f_{2}}{\\partial h_{2}}\\frac{\\partial h_{3}}{\\partial f_{2}}\\frac{\\partial f_{3}}{\\partial h_{3}}\\frac{\\partial \\ell_i}{\\partial f_{3}} \\right).\n\\end{align}\n\nIn each case, we have already computed all of the terms except the last one in the previous step, and the last term is simple to evaluate.  This is called the **backward pass**."
        },
        {
            "cell_type": "code",
            "execution_count": 8,
            "id": "1c2ca70d",
            "metadata": {
                "trusted": true
            },
            "outputs": [],
            "source": "# TODO -- Compute the derivatives of the output with respect\n# to the intermediate computations h_k and f_k (i.e, run the backward pass)\n# I've done the first two for you.  You replace the code below:\ndldf3 = 2* (f3 - y)\ndldh3 = omega3 * dldf3\n# Replace the code below\ndldf2 = -np.sin(f2)* dldh3\ndldh2 = omega2 * dldf2\ndldf1 = np.exp(f1) * dldh2\ndldh1 = omega1 * dldf1\ndldf0 = np.cos(f0) * dldh1"
        },
        {
            "cell_type": "code",
            "execution_count": 9,
            "id": "908ec8ee",
            "metadata": {
                "trusted": true
            },
            "outputs": [
                {
                    "name": "stdout",
                    "output_type": "stream",
                    "text": "dldf3: true value = 0.745, your value = 0.745\ndldh3: true value = 2.234, your value = 2.234\ndldf2: true value = -1.683, your value = -1.683\ndldh2: true value = -3.366, your value = -3.366\ndldf1: true value = -17.060, your value = -17.060\ndldh1: true value = 6.824, your value = 6.824\ndldf0: true value = 2.281, your value = 2.281\n"
                }
            ],
            "source": "# Let's check we got that right\nprint(\"dldf3: true value = %3.3f, your value = %3.3f\"%(0.745, dldf3))\nprint(\"dldh3: true value = %3.3f, your value = %3.3f\"%(2.234, dldh3))\nprint(\"dldf2: true value = %3.3f, your value = %3.3f\"%(-1.683, dldf2))\nprint(\"dldh2: true value = %3.3f, your value = %3.3f\"%(-3.366, dldh2))\nprint(\"dldf1: true value = %3.3f, your value = %3.3f\"%(-17.060, dldf1))\nprint(\"dldh1: true value = %3.3f, your value = %3.3f\"%(6.824, dldh1))\nprint(\"dldf0: true value = %3.3f, your value = %3.3f\"%(2.281, dldf0))"
        },
        {
            "cell_type": "code",
            "execution_count": 24,
            "id": "e0b1abd4",
            "metadata": {
                "trusted": true
            },
            "outputs": [],
            "source": "# TODO -- Calculate the final derivatives with respect to the beta and omega terms\n\ndldbeta3 = dldf3\ndldomega3 = h3*dldf3\ndldbeta2 = dldf2\ndldomega2 = h2*dldf2\ndldbeta1 = dldf1\ndldomega1 = h1*dldf1\ndldbeta0 = dldf0\ndldomega0 = x*dldf0"
        },
        {
            "cell_type": "code",
            "execution_count": 25,
            "id": "14eec424",
            "metadata": {
                "trusted": true
            },
            "outputs": [
                {
                    "name": "stdout",
                    "output_type": "stream",
                    "text": "dldbeta3: Your value = 0.745, True value = 0.745\ndldomega3: Your value = 0.489, True value = 0.489\ndldbeta2 Your value = -1.683, True value = -1.683\ndldomega2: Your value = -8.530, True value = -8.530\ndldbeta1: Your value = -17.060, True value = -17.060\ndldomega1: Your value = -16.079, True value = -16.079\ndldbeta0: Your value = 2.281, True value = 2.281\ndldomega0: Your value = 5.246, Function value = 5.246, Finite difference value = 5.246\n"
                }
            ],
            "source": "# Let's check we got them right\nprint('dldbeta3: Your value = %3.3f, True value = %3.3f'%(dldbeta3, 0.745))\nprint('dldomega3: Your value = %3.3f, True value = %3.3f'%(dldomega3, 0.489))\nprint('dldbeta2 Your value = %3.3f, True value = %3.3f'%(dldbeta2, -1.683))\nprint('dldomega2: Your value = %3.3f, True value = %3.3f'%(dldomega2, -8.530))\nprint('dldbeta1: Your value = %3.3f, True value = %3.3f'%(dldbeta1, -17.060))\nprint('dldomega1: Your value = %3.3f, True value = %3.3f'%(dldomega1, -16.079))\nprint('dldbeta0: Your value = %3.3f, True value = %3.3f'%(dldbeta0, 2.281))\nprint('dldomega0: Your value = %3.3f, Function value = %3.3f, Finite difference value = %3.3f'%(dldomega0, dldomega0_func, dldomega0_fd))"
        },
        {
            "cell_type": "markdown",
            "id": "2de6be2c",
            "metadata": {},
            "source": "Using this method, we can compute the derivatives quite easily without needing to compute very complicated expressions.  In the next practical, we'll apply this same method to a deep neural network."
        }
    ],
    "metadata": {
        "kernelspec": {
            "display_name": "Python 3 (ipykernel)",
            "language": "python",
            "name": "python3"
        },
        "language_info": {
            "codemirror_mode": {
                "name": "ipython",
                "version": 3
            },
            "file_extension": ".py",
            "mimetype": "text/x-python",
            "name": "python",
            "nbconvert_exporter": "python",
            "pygments_lexer": "ipython3",
            "version": "3.10.12"
        }
    },
    "nbformat": 4,
    "nbformat_minor": 5
}